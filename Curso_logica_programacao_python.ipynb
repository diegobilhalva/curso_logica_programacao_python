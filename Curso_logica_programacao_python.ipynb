{
  "nbformat": 4,
  "nbformat_minor": 0,
  "metadata": {
    "colab": {
      "name": "Curso_logica_programacao_python.ipynb",
      "provenance": [],
      "collapsed_sections": [],
      "authorship_tag": "ABX9TyOfba/fJLHmHOVuFpgkaVux",
      "include_colab_link": true
    },
    "kernelspec": {
      "name": "python3",
      "display_name": "Python 3"
    },
    "language_info": {
      "name": "python"
    }
  },
  "cells": [
    {
      "cell_type": "markdown",
      "metadata": {
        "id": "view-in-github",
        "colab_type": "text"
      },
      "source": [
        "<a href=\"https://colab.research.google.com/github/diegobilhalva/curso_logica_programacao_python/blob/main/Curso_logica_programacao_python.ipynb\" target=\"_parent\"><img src=\"https://colab.research.google.com/assets/colab-badge.svg\" alt=\"Open In Colab\"/></a>"
      ]
    },
    {
      "cell_type": "markdown",
      "source": [
        "# **Curso de Lógica de Programação Python**"
      ],
      "metadata": {
        "id": "kFdQIiizQjZL"
      }
    },
    {
      "cell_type": "markdown",
      "source": [
        "![diegobilhalva](https://media-exp1.licdn.com/dms/image/C4D03AQFvZEohEOafag/profile-displayphoto-shrink_200_200/0/1647916524603?e=1663200000&v=beta&t=nKUMYsNBFSEk32Al084314UWyT25GAb5T9X36bUB7y0)\n",
        "## $Instrutor:$ [$Diego Bilhalva$](https://www.linkedin.com/in/diegobilhalva)\n",
        "\n",
        "---\n",
        "\n",
        "\n",
        "\n",
        "![image.png](https://targettrust.com.br/wp-content/themes/bones/library/images/logo-novo.png)"
      ],
      "metadata": {
        "id": "Z-gp4d4VQokq"
      }
    },
    {
      "cell_type": "markdown",
      "source": [
        "## **Básico da Linguagem Python**"
      ],
      "metadata": {
        "id": "7_Lgf8TDRl0f"
      }
    },
    {
      "cell_type": "markdown",
      "source": [
        "### **Semântica da Linguagem**\n",
        "\n",
        "O **Python** é uma linguagem que se destaca por sua **fácil legibilidade**, por ter uma **simplicidade** incrível e de **caráter explícito**."
      ],
      "metadata": {
        "id": "yxhKm0-MRqJV"
      }
    },
    {
      "cell_type": "markdown",
      "source": [
        "### **Identação é o que separa as coisas**"
      ],
      "metadata": {
        "id": "BugHhfQJR-I2"
      }
    },
    {
      "cell_type": "code",
      "execution_count": null,
      "metadata": {
        "colab": {
          "base_uri": "https://localhost:8080/"
        },
        "id": "S2dnD8HRQec1",
        "outputId": "08ba6ebf-0fe3-4de9-fc62-5996d01dd43a"
      },
      "outputs": [
        {
          "output_type": "stream",
          "name": "stdout",
          "text": [
            "0\n",
            "1\n",
            "2\n",
            "i é maior que 3\n"
          ]
        }
      ],
      "source": [
        "import numpy as np\n",
        "\n",
        "j = np.arange(10)\n",
        "\n",
        "for i in j:\n",
        "  if i < 3:\n",
        "    print(i)\n",
        "  else:\n",
        "    print('i é maior que 3')\n",
        "    break"
      ]
    },
    {
      "cell_type": "markdown",
      "source": [
        "### Comentários"
      ],
      "metadata": {
        "id": "G8qP-we8TuV7"
      }
    },
    {
      "cell_type": "code",
      "source": [
        "import numpy as np\n",
        "\n",
        "# Isto é um comentário\n",
        "j = np.arange(10)\n",
        "\n",
        "for i in j:\n",
        "  if i < 3:\n",
        "    print(i) # isto também é um comentário\n",
        "  else:\n",
        "    print('i é maior que 3')\n",
        "    break"
      ],
      "metadata": {
        "colab": {
          "base_uri": "https://localhost:8080/"
        },
        "id": "SEL2_qShTsIc",
        "outputId": "032bb0fb-ca15-458c-e9a1-9c5d15931bd1"
      },
      "execution_count": null,
      "outputs": [
        {
          "output_type": "stream",
          "name": "stdout",
          "text": [
            "0\n",
            "1\n",
            "2\n",
            "i é maior que 3\n"
          ]
        }
      ]
    },
    {
      "cell_type": "markdown",
      "source": [
        "### **Tudo é um objeto**"
      ],
      "metadata": {
        "id": "Oe3yjVatTGgs"
      }
    },
    {
      "cell_type": "markdown",
      "source": [
        "Uma das maiores forças da linguagem **Python** é sua consistência de seu $modelo$ $de$ $objetos$. Todo número, string, estrutura de dados, função, classe, módulo e assim por diante existe no interpretador **Python** em sua própria $caixa$, que é referenciada como um $objeto$ $Python$. Todo objeto tem um $tipo$ associado (por exemplo, $string$ ou $função$) e dados internos. Em outras palavras, até mesmo funções podem ser tratadas como um objeto qualquer."
      ],
      "metadata": {
        "id": "YFiMwG8XZUQT"
      }
    },
    {
      "cell_type": "code",
      "source": [
        "a = 'Meu nome é Diego'"
      ],
      "metadata": {
        "id": "TnJiqUjkSpju"
      },
      "execution_count": null,
      "outputs": []
    },
    {
      "cell_type": "code",
      "source": [
        "print(a.capitalize())\n",
        "#Teste você agora digitando uma nova instrução iniciando pela variável \"a\", digite \".\" e \"<tab>\"\n",
        "\n",
        "#a."
      ],
      "metadata": {
        "colab": {
          "base_uri": "https://localhost:8080/"
        },
        "id": "VeEVxYzqTbYV",
        "outputId": "64620468-8dbf-4c87-d447-2a858149726e"
      },
      "execution_count": null,
      "outputs": [
        {
          "output_type": "stream",
          "name": "stdout",
          "text": [
            "Meu nome é diego\n"
          ]
        }
      ]
    },
    {
      "cell_type": "markdown",
      "source": [
        "### **Chamadas de Função e de métodos de objeto**\n",
        "\n",
        "Chame as **funções Python** usando parênteses e passando nenhum ou mais argumentos.\n",
        "\n",
        "***\n",
        "Exemplo:\n",
        "1.   $resultado = f(x, y, z)$\n",
        "2.   $r()$\n",
        "3.   $objK.algum\\_metodo(a, b, c)$ <font color='green'># quase todo objeto python tem funções associadas e devem serem chamadas assim</font>"
      ],
      "metadata": {
        "id": "O7SoIEQxUYW2"
      }
    },
    {
      "cell_type": "markdown",
      "source": [
        "### **Variáveis e passagem de argumentos**\n",
        "\n",
        "Ao se fazer uma atribuição a uma variável qualquer em **Python**, estamos chamando a $atenção$ para o objeto do lado direito da igualdade."
      ],
      "metadata": {
        "id": "THO3Ip4NVRSx"
      }
    },
    {
      "cell_type": "markdown",
      "source": [
        "#### **Considere os seguintes passos e reflita sobre cada etapa.**"
      ],
      "metadata": {
        "id": "10N8cphPap97"
      }
    },
    {
      "cell_type": "code",
      "source": [
        "isto_aqui_eh_uma_variavel #não definida. Em tese, uma variável só passa a existir após sua atribuição"
      ],
      "metadata": {
        "colab": {
          "base_uri": "https://localhost:8080/",
          "height": 172
        },
        "id": "bii6mE9STdrO",
        "outputId": "5b96cfdc-9e9c-4c54-847b-572790872cee"
      },
      "execution_count": null,
      "outputs": [
        {
          "output_type": "error",
          "ename": "NameError",
          "evalue": "ignored",
          "traceback": [
            "\u001b[0;31m---------------------------------------------------------------------------\u001b[0m",
            "\u001b[0;31mNameError\u001b[0m                                 Traceback (most recent call last)",
            "\u001b[0;32m<ipython-input-10-4b85e452cbc3>\u001b[0m in \u001b[0;36m<module>\u001b[0;34m()\u001b[0m\n\u001b[0;32m----> 1\u001b[0;31m \u001b[0misto_aqui_eh_uma_variavel\u001b[0m\u001b[0;34m\u001b[0m\u001b[0;34m\u001b[0m\u001b[0m\n\u001b[0m",
            "\u001b[0;31mNameError\u001b[0m: name 'isto_aqui_eh_uma_variavel' is not defined"
          ]
        }
      ]
    },
    {
      "cell_type": "code",
      "source": [
        "#atribuindo valor a uma variável\n",
        "\n",
        "isto_aqui_eh_uma_variavel = [1, 2, 5, 6]"
      ],
      "metadata": {
        "id": "QIi_8nmbXJx-"
      },
      "execution_count": null,
      "outputs": []
    },
    {
      "cell_type": "code",
      "source": [
        "isto_aqui_eh_uma_variavel"
      ],
      "metadata": {
        "colab": {
          "base_uri": "https://localhost:8080/"
        },
        "id": "CGWhaGJdXeui",
        "outputId": "af9fb8c3-3581-4921-e5ec-9ceeb75a1673"
      },
      "execution_count": null,
      "outputs": [
        {
          "output_type": "execute_result",
          "data": {
            "text/plain": [
              "[1, 2, 5, 6]"
            ]
          },
          "metadata": {},
          "execution_count": 34
        }
      ]
    },
    {
      "cell_type": "code",
      "source": [
        "isto_aqui_eh_uma_outra_variavel = isto_aqui_eh_uma_variavel"
      ],
      "metadata": {
        "id": "Qtj-ZgNGXhTb"
      },
      "execution_count": null,
      "outputs": []
    },
    {
      "cell_type": "code",
      "source": [
        "isto_aqui_eh_uma_outra_variavel"
      ],
      "metadata": {
        "colab": {
          "base_uri": "https://localhost:8080/"
        },
        "id": "smhWubOOXwsz",
        "outputId": "644ce71e-5898-4704-b429-ae61714bacb6"
      },
      "execution_count": null,
      "outputs": [
        {
          "output_type": "execute_result",
          "data": {
            "text/plain": [
              "[1, 2, 5, 6]"
            ]
          },
          "metadata": {},
          "execution_count": 36
        }
      ]
    },
    {
      "cell_type": "code",
      "source": [
        "isto_aqui_eh_uma_outra_variavel.append(3)\n"
      ],
      "metadata": {
        "id": "QMVbTQFEYFzy"
      },
      "execution_count": null,
      "outputs": []
    },
    {
      "cell_type": "code",
      "source": [
        "isto_aqui_eh_uma_variavel.append(4)"
      ],
      "metadata": {
        "id": "idGvo5tUXxIi"
      },
      "execution_count": null,
      "outputs": []
    },
    {
      "cell_type": "code",
      "source": [
        "isto_aqui_eh_uma_variavel"
      ],
      "metadata": {
        "colab": {
          "base_uri": "https://localhost:8080/"
        },
        "id": "l6kAXTEPYFVc",
        "outputId": "2bfb4902-e663-48c8-97e5-04ee7f4cf565"
      },
      "execution_count": null,
      "outputs": [
        {
          "output_type": "execute_result",
          "data": {
            "text/plain": [
              "[1, 2, 5, 6, 3, 4]"
            ]
          },
          "metadata": {},
          "execution_count": 39
        }
      ]
    },
    {
      "cell_type": "code",
      "source": [
        "isto_aqui_eh_uma_outra_variavel"
      ],
      "metadata": {
        "colab": {
          "base_uri": "https://localhost:8080/"
        },
        "id": "mrZpabhJX0mB",
        "outputId": "9911f384-53fe-4943-a01b-ca019d4e7338"
      },
      "execution_count": null,
      "outputs": [
        {
          "output_type": "execute_result",
          "data": {
            "text/plain": [
              "[1, 2, 5, 6, 3, 4]"
            ]
          },
          "metadata": {},
          "execution_count": 40
        }
      ]
    },
    {
      "cell_type": "code",
      "source": [
        "isto_aqui_eh_uma_terceira_variavel = isto_aqui_eh_uma_outra_variavel.copy() #ATENÇÃO"
      ],
      "metadata": {
        "id": "VYQszviCYbkc"
      },
      "execution_count": null,
      "outputs": []
    },
    {
      "cell_type": "code",
      "source": [
        "isto_aqui_eh_uma_variavel.append(99)"
      ],
      "metadata": {
        "id": "5y8kZRSxYn3B"
      },
      "execution_count": null,
      "outputs": []
    },
    {
      "cell_type": "code",
      "source": [
        "isto_aqui_eh_uma_variavel"
      ],
      "metadata": {
        "colab": {
          "base_uri": "https://localhost:8080/"
        },
        "id": "8UaPRef_YrTH",
        "outputId": "7c3bfc46-cdba-441e-9e7d-53de9ccead96"
      },
      "execution_count": null,
      "outputs": [
        {
          "output_type": "execute_result",
          "data": {
            "text/plain": [
              "[1, 2, 5, 6, 3, 4, 99]"
            ]
          },
          "metadata": {},
          "execution_count": 43
        }
      ]
    },
    {
      "cell_type": "code",
      "source": [
        "isto_aqui_eh_uma_outra_variavel"
      ],
      "metadata": {
        "colab": {
          "base_uri": "https://localhost:8080/"
        },
        "id": "a4y1_ddBYrDw",
        "outputId": "17465371-fbd6-4ae2-9fb9-963e363d8119"
      },
      "execution_count": null,
      "outputs": [
        {
          "output_type": "execute_result",
          "data": {
            "text/plain": [
              "[1, 2, 5, 6, 3, 4, 99]"
            ]
          },
          "metadata": {},
          "execution_count": 44
        }
      ]
    },
    {
      "cell_type": "code",
      "source": [
        "isto_aqui_eh_uma_terceira_variavel"
      ],
      "metadata": {
        "colab": {
          "base_uri": "https://localhost:8080/"
        },
        "id": "o6O87JOlYxpP",
        "outputId": "cb6a8bdf-3a73-42bf-9c2b-4484e5e5e2a9"
      },
      "execution_count": null,
      "outputs": [
        {
          "output_type": "execute_result",
          "data": {
            "text/plain": [
              "[1, 2, 5, 6, 3, 4]"
            ]
          },
          "metadata": {},
          "execution_count": 45
        }
      ]
    },
    {
      "cell_type": "code",
      "source": [
        "isto_aqui_eh_uma_terceira_variavel.append(100)"
      ],
      "metadata": {
        "id": "Q6mwgTPQY1SM"
      },
      "execution_count": null,
      "outputs": []
    },
    {
      "cell_type": "code",
      "source": [
        "isto_aqui_eh_uma_variavel"
      ],
      "metadata": {
        "colab": {
          "base_uri": "https://localhost:8080/"
        },
        "id": "NNw6Mp0QY40v",
        "outputId": "5c7f5a2c-a0b1-4a80-f6d0-e81b453a2021"
      },
      "execution_count": null,
      "outputs": [
        {
          "output_type": "execute_result",
          "data": {
            "text/plain": [
              "[1, 2, 5, 6, 3, 4, 99]"
            ]
          },
          "metadata": {},
          "execution_count": 47
        }
      ]
    },
    {
      "cell_type": "code",
      "source": [
        "isto_aqui_eh_uma_outra_variavel"
      ],
      "metadata": {
        "colab": {
          "base_uri": "https://localhost:8080/"
        },
        "id": "ZzkriOiTY8Ga",
        "outputId": "9a52ec5c-8d0d-48d3-80a0-932933f7cad2"
      },
      "execution_count": null,
      "outputs": [
        {
          "output_type": "execute_result",
          "data": {
            "text/plain": [
              "[1, 2, 5, 6, 3, 4, 99]"
            ]
          },
          "metadata": {},
          "execution_count": 48
        }
      ]
    },
    {
      "cell_type": "code",
      "source": [
        "isto_aqui_eh_uma_terceira_variavel"
      ],
      "metadata": {
        "colab": {
          "base_uri": "https://localhost:8080/"
        },
        "id": "1X_fVaCIY-AN",
        "outputId": "9b41531d-9650-4b16-af81-cd8ef08b8ada"
      },
      "execution_count": null,
      "outputs": [
        {
          "output_type": "execute_result",
          "data": {
            "text/plain": [
              "[1, 2, 5, 6, 3, 4, 100]"
            ]
          },
          "metadata": {},
          "execution_count": 49
        }
      ]
    },
    {
      "cell_type": "markdown",
      "source": [
        "Com os experimentos anteriores podemos comprovar uma propriedade interessante do **Python**. Diferente de outras linguagens em que quando se atribui o valor de uma variável $X$ qualquer a outro objeto $Y$, ao invés de $Y$ apenas assumir distintamente os valores de $X$, $Y$ acaba tornando-se $X$.\n",
        "\n",
        "Note que para que $Y$ apenas assuma os valores de $X$, o método **$.copy()$** deve ser evocado."
      ],
      "metadata": {
        "id": "nfFnpppmfXSd"
      }
    },
    {
      "cell_type": "markdown",
      "source": [
        "**Agora veja o caso a seguir** pois iremos ver a passagem de argumentos. Observe a seguinte $função$ abaixo:"
      ],
      "metadata": {
        "id": "RSBwRQRqkw7L"
      }
    },
    {
      "cell_type": "code",
      "source": [
        "def adicionar_elemento(alguma_lista, novo_elemento):\n",
        "  alguma_lista.append(novo_elemento)\n",
        "  # print(alguma_lista)"
      ],
      "metadata": {
        "id": "CHJoCQe3gKWf"
      },
      "execution_count": 11,
      "outputs": []
    },
    {
      "cell_type": "code",
      "source": [
        "lista = [1, 2, 3]\n",
        "\n",
        "adicionar_elemento(lista, 'teste')"
      ],
      "metadata": {
        "id": "t88SmEq3leit"
      },
      "execution_count": 12,
      "outputs": []
    },
    {
      "cell_type": "code",
      "source": [
        "lista"
      ],
      "metadata": {
        "colab": {
          "base_uri": "https://localhost:8080/"
        },
        "id": "MmTnG00Illuc",
        "outputId": "0d990b93-a3e0-441e-fad6-200a639c7435"
      },
      "execution_count": 13,
      "outputs": [
        {
          "output_type": "execute_result",
          "data": {
            "text/plain": [
              "[1, 2, 3, 'teste']"
            ]
          },
          "metadata": {},
          "execution_count": 13
        }
      ]
    },
    {
      "cell_type": "markdown",
      "source": [
        "***\n",
        "## Referências Dinâmicas, tipos fortes"
      ],
      "metadata": {
        "id": "XjU-Dfhll6aL"
      }
    },
    {
      "cell_type": "code",
      "source": [
        ""
      ],
      "metadata": {
        "id": "gN0qCz46l17n"
      },
      "execution_count": null,
      "outputs": []
    }
  ]
}