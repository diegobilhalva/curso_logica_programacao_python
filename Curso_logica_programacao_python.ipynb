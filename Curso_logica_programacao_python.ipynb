{
  "nbformat": 4,
  "nbformat_minor": 0,
  "metadata": {
    "colab": {
      "name": "Curso_logica_programacao_python.ipynb",
      "provenance": [],
      "collapsed_sections": [],
      "toc_visible": true,
      "authorship_tag": "ABX9TyMP9x1saQal2zFLljUkMFfD",
      "include_colab_link": true
    },
    "kernelspec": {
      "name": "python3",
      "display_name": "Python 3"
    },
    "language_info": {
      "name": "python"
    }
  },
  "cells": [
    {
      "cell_type": "markdown",
      "metadata": {
        "id": "view-in-github",
        "colab_type": "text"
      },
      "source": [
        "<a href=\"https://colab.research.google.com/github/diegobilhalva/curso_logica_programacao_python/blob/main/Curso_logica_programacao_python.ipynb\" target=\"_parent\"><img src=\"https://colab.research.google.com/assets/colab-badge.svg\" alt=\"Open In Colab\"/></a>"
      ]
    },
    {
      "cell_type": "code",
      "source": [
        "!python --version"
      ],
      "metadata": {
        "colab": {
          "base_uri": "https://localhost:8080/"
        },
        "id": "TcIa06jXpe2G",
        "outputId": "f7042b5c-27d9-4571-c9a9-64ba46a050d7"
      },
      "execution_count": null,
      "outputs": [
        {
          "output_type": "stream",
          "name": "stdout",
          "text": [
            "Python 3.7.13\n"
          ]
        }
      ]
    },
    {
      "cell_type": "markdown",
      "source": [
        "# **Curso de Lógica de Programação Python**"
      ],
      "metadata": {
        "id": "kFdQIiizQjZL"
      }
    },
    {
      "cell_type": "markdown",
      "source": [
        "![diegobilhalva](https://media-exp1.licdn.com/dms/image/C4D03AQFvZEohEOafag/profile-displayphoto-shrink_200_200/0/1647916524603?e=1663200000&v=beta&t=nKUMYsNBFSEk32Al084314UWyT25GAb5T9X36bUB7y0)\n",
        "## $Instrutor:$ [$Diego Bilhalva$](https://www.linkedin.com/in/diegobilhalva)\n",
        "\n",
        "---\n",
        "\n",
        "\n",
        "\n",
        "![image.png](https://targettrust.com.br/wp-content/themes/bones/library/images/logo-novo.png)"
      ],
      "metadata": {
        "id": "Z-gp4d4VQokq"
      }
    },
    {
      "cell_type": "markdown",
      "source": [
        "## **Básico da Linguagem Python**"
      ],
      "metadata": {
        "id": "7_Lgf8TDRl0f"
      }
    },
    {
      "cell_type": "markdown",
      "source": [
        "### **Semântica da Linguagem**\n",
        "\n",
        "O **Python** é uma linguagem que se destaca por sua **fácil legibilidade**, por ter uma **simplicidade** incrível e de **caráter explícito**."
      ],
      "metadata": {
        "id": "yxhKm0-MRqJV"
      }
    },
    {
      "cell_type": "markdown",
      "source": [
        "### **Identação é o que separa as coisas**"
      ],
      "metadata": {
        "id": "BugHhfQJR-I2"
      }
    },
    {
      "cell_type": "code",
      "execution_count": null,
      "metadata": {
        "colab": {
          "base_uri": "https://localhost:8080/"
        },
        "id": "S2dnD8HRQec1",
        "outputId": "08ba6ebf-0fe3-4de9-fc62-5996d01dd43a"
      },
      "outputs": [
        {
          "output_type": "stream",
          "name": "stdout",
          "text": [
            "0\n",
            "1\n",
            "2\n",
            "i é maior que 3\n"
          ]
        }
      ],
      "source": [
        "import numpy as np\n",
        "\n",
        "j = np.arange(10)\n",
        "\n",
        "for i in j:\n",
        "  if i < 3:\n",
        "    print(i)\n",
        "  else:\n",
        "    print('i é maior que 3')\n",
        "    break"
      ]
    },
    {
      "cell_type": "markdown",
      "source": [
        "### Comentários"
      ],
      "metadata": {
        "id": "G8qP-we8TuV7"
      }
    },
    {
      "cell_type": "code",
      "source": [
        "import numpy as np\n",
        "\n",
        "# Isto é um comentário\n",
        "j = np.arange(10)\n",
        "\n",
        "for i in j:\n",
        "  if i < 3:\n",
        "    print(i) # isto também é um comentário\n",
        "  else:\n",
        "    print('i é maior que 3')\n",
        "    break"
      ],
      "metadata": {
        "colab": {
          "base_uri": "https://localhost:8080/"
        },
        "id": "SEL2_qShTsIc",
        "outputId": "032bb0fb-ca15-458c-e9a1-9c5d15931bd1"
      },
      "execution_count": null,
      "outputs": [
        {
          "output_type": "stream",
          "name": "stdout",
          "text": [
            "0\n",
            "1\n",
            "2\n",
            "i é maior que 3\n"
          ]
        }
      ]
    },
    {
      "cell_type": "markdown",
      "source": [
        "### **Tudo é um objeto**"
      ],
      "metadata": {
        "id": "Oe3yjVatTGgs"
      }
    },
    {
      "cell_type": "markdown",
      "source": [
        "Uma das maiores forças da linguagem **Python** é sua consistência de seu $modelo$ $de$ $objetos$. Todo número, string, estrutura de dados, função, classe, módulo e assim por diante existe no interpretador **Python** em sua própria $caixa$, que é referenciada como um $objeto$ $Python$. Todo objeto tem um $tipo$ associado (por exemplo, $string$ ou $função$) e dados internos. Em outras palavras, até mesmo funções podem ser tratadas como um objeto qualquer."
      ],
      "metadata": {
        "id": "YFiMwG8XZUQT"
      }
    },
    {
      "cell_type": "markdown",
      "source": [
        "### **Chamadas de Função e de métodos de objeto**\n",
        "\n",
        "Chame as **funções Python** usando parênteses e passando nenhum ou mais argumentos.\n",
        "\n",
        "***\n",
        "Exemplo:\n",
        "1.   $resultado = f(x, y, z)$\n",
        "2.   $r()$\n",
        "3.   $objK.algum\\_metodo(a, b, c)$ <font color='green'># quase todo objeto python tem funções associadas e devem serem chamadas assim</font>"
      ],
      "metadata": {
        "id": "O7SoIEQxUYW2"
      }
    },
    {
      "cell_type": "markdown",
      "source": [
        "### **Variáveis e passagem de argumentos**\n",
        "\n",
        "Ao se fazer uma atribuição a uma variável qualquer em **Python**, estamos chamando a $atenção$ para o objeto do lado direito da igualdade."
      ],
      "metadata": {
        "id": "THO3Ip4NVRSx"
      }
    },
    {
      "cell_type": "markdown",
      "source": [
        "#### **Case Sensitive**\n",
        "\n",
        "As variáveis em $Python$ são _case sensitive_, isto é, é preciso ter cuidado na hora de dar nome às variáveis pois $Var\\_A$ $\\neq$ $Var\\_a$. Veja:\n"
      ],
      "metadata": {
        "id": "SptMgV-6oUG9"
      }
    },
    {
      "cell_type": "code",
      "source": [
        "Var_A = 1\n",
        "Var_a = 'a'\n",
        "\n",
        "print(\"Este é o valor da variável 'Var_A': {0}\".format(Var_A))\n",
        "print(\"Este é o valor da variável 'Var_a': {0}\".format(Var_a))"
      ],
      "metadata": {
        "colab": {
          "base_uri": "https://localhost:8080/"
        },
        "id": "oEkR9WcRpX6J",
        "outputId": "de8d95c3-9049-426c-b7c3-de3a7ea60d47"
      },
      "execution_count": null,
      "outputs": [
        {
          "output_type": "stream",
          "name": "stdout",
          "text": [
            "Este é o valor da variável 'Var_A': 1\n",
            "Este é o valor da variável 'Var_a': a\n"
          ]
        }
      ]
    },
    {
      "cell_type": "markdown",
      "source": [
        "#### **Considere os seguintes passos e reflita sobre cada etapa.**"
      ],
      "metadata": {
        "id": "10N8cphPap97"
      }
    },
    {
      "cell_type": "code",
      "source": [
        "isto_aqui_eh_uma_variavel #não definida. Em tese, uma variável só passa a existir após sua atribuição"
      ],
      "metadata": {
        "colab": {
          "base_uri": "https://localhost:8080/",
          "height": 172
        },
        "id": "bii6mE9STdrO",
        "outputId": "5b96cfdc-9e9c-4c54-847b-572790872cee"
      },
      "execution_count": null,
      "outputs": [
        {
          "output_type": "error",
          "ename": "NameError",
          "evalue": "ignored",
          "traceback": [
            "\u001b[0;31m---------------------------------------------------------------------------\u001b[0m",
            "\u001b[0;31mNameError\u001b[0m                                 Traceback (most recent call last)",
            "\u001b[0;32m<ipython-input-10-4b85e452cbc3>\u001b[0m in \u001b[0;36m<module>\u001b[0;34m()\u001b[0m\n\u001b[0;32m----> 1\u001b[0;31m \u001b[0misto_aqui_eh_uma_variavel\u001b[0m\u001b[0;34m\u001b[0m\u001b[0;34m\u001b[0m\u001b[0m\n\u001b[0m",
            "\u001b[0;31mNameError\u001b[0m: name 'isto_aqui_eh_uma_variavel' is not defined"
          ]
        }
      ]
    },
    {
      "cell_type": "code",
      "source": [
        "#atribuindo valor a uma variável\n",
        "\n",
        "isto_aqui_eh_uma_variavel = [1, 2, 5, 6]"
      ],
      "metadata": {
        "id": "QIi_8nmbXJx-"
      },
      "execution_count": null,
      "outputs": []
    },
    {
      "cell_type": "code",
      "source": [
        "isto_aqui_eh_uma_variavel"
      ],
      "metadata": {
        "colab": {
          "base_uri": "https://localhost:8080/"
        },
        "id": "CGWhaGJdXeui",
        "outputId": "af9fb8c3-3581-4921-e5ec-9ceeb75a1673"
      },
      "execution_count": null,
      "outputs": [
        {
          "output_type": "execute_result",
          "data": {
            "text/plain": [
              "[1, 2, 5, 6]"
            ]
          },
          "metadata": {},
          "execution_count": 34
        }
      ]
    },
    {
      "cell_type": "code",
      "source": [
        "isto_aqui_eh_uma_outra_variavel = isto_aqui_eh_uma_variavel"
      ],
      "metadata": {
        "id": "Qtj-ZgNGXhTb"
      },
      "execution_count": null,
      "outputs": []
    },
    {
      "cell_type": "code",
      "source": [
        "isto_aqui_eh_uma_outra_variavel"
      ],
      "metadata": {
        "colab": {
          "base_uri": "https://localhost:8080/"
        },
        "id": "smhWubOOXwsz",
        "outputId": "644ce71e-5898-4704-b429-ae61714bacb6"
      },
      "execution_count": null,
      "outputs": [
        {
          "output_type": "execute_result",
          "data": {
            "text/plain": [
              "[1, 2, 5, 6]"
            ]
          },
          "metadata": {},
          "execution_count": 36
        }
      ]
    },
    {
      "cell_type": "code",
      "source": [
        "isto_aqui_eh_uma_outra_variavel.append(3)\n"
      ],
      "metadata": {
        "id": "QMVbTQFEYFzy"
      },
      "execution_count": null,
      "outputs": []
    },
    {
      "cell_type": "code",
      "source": [
        "isto_aqui_eh_uma_variavel.append(4)"
      ],
      "metadata": {
        "id": "idGvo5tUXxIi"
      },
      "execution_count": null,
      "outputs": []
    },
    {
      "cell_type": "code",
      "source": [
        "isto_aqui_eh_uma_variavel"
      ],
      "metadata": {
        "colab": {
          "base_uri": "https://localhost:8080/"
        },
        "id": "l6kAXTEPYFVc",
        "outputId": "2bfb4902-e663-48c8-97e5-04ee7f4cf565"
      },
      "execution_count": null,
      "outputs": [
        {
          "output_type": "execute_result",
          "data": {
            "text/plain": [
              "[1, 2, 5, 6, 3, 4]"
            ]
          },
          "metadata": {},
          "execution_count": 39
        }
      ]
    },
    {
      "cell_type": "code",
      "source": [
        "isto_aqui_eh_uma_outra_variavel"
      ],
      "metadata": {
        "colab": {
          "base_uri": "https://localhost:8080/"
        },
        "id": "mrZpabhJX0mB",
        "outputId": "9911f384-53fe-4943-a01b-ca019d4e7338"
      },
      "execution_count": null,
      "outputs": [
        {
          "output_type": "execute_result",
          "data": {
            "text/plain": [
              "[1, 2, 5, 6, 3, 4]"
            ]
          },
          "metadata": {},
          "execution_count": 40
        }
      ]
    },
    {
      "cell_type": "code",
      "source": [
        "isto_aqui_eh_uma_terceira_variavel = isto_aqui_eh_uma_outra_variavel.copy() #ATENÇÃO"
      ],
      "metadata": {
        "id": "VYQszviCYbkc"
      },
      "execution_count": null,
      "outputs": []
    },
    {
      "cell_type": "code",
      "source": [
        "isto_aqui_eh_uma_variavel.append(99)"
      ],
      "metadata": {
        "id": "5y8kZRSxYn3B"
      },
      "execution_count": null,
      "outputs": []
    },
    {
      "cell_type": "code",
      "source": [
        "isto_aqui_eh_uma_variavel"
      ],
      "metadata": {
        "colab": {
          "base_uri": "https://localhost:8080/"
        },
        "id": "8UaPRef_YrTH",
        "outputId": "7c3bfc46-cdba-441e-9e7d-53de9ccead96"
      },
      "execution_count": null,
      "outputs": [
        {
          "output_type": "execute_result",
          "data": {
            "text/plain": [
              "[1, 2, 5, 6, 3, 4, 99]"
            ]
          },
          "metadata": {},
          "execution_count": 43
        }
      ]
    },
    {
      "cell_type": "code",
      "source": [
        "isto_aqui_eh_uma_outra_variavel"
      ],
      "metadata": {
        "colab": {
          "base_uri": "https://localhost:8080/"
        },
        "id": "a4y1_ddBYrDw",
        "outputId": "17465371-fbd6-4ae2-9fb9-963e363d8119"
      },
      "execution_count": null,
      "outputs": [
        {
          "output_type": "execute_result",
          "data": {
            "text/plain": [
              "[1, 2, 5, 6, 3, 4, 99]"
            ]
          },
          "metadata": {},
          "execution_count": 44
        }
      ]
    },
    {
      "cell_type": "code",
      "source": [
        "isto_aqui_eh_uma_terceira_variavel"
      ],
      "metadata": {
        "colab": {
          "base_uri": "https://localhost:8080/"
        },
        "id": "o6O87JOlYxpP",
        "outputId": "cb6a8bdf-3a73-42bf-9c2b-4484e5e5e2a9"
      },
      "execution_count": null,
      "outputs": [
        {
          "output_type": "execute_result",
          "data": {
            "text/plain": [
              "[1, 2, 5, 6, 3, 4]"
            ]
          },
          "metadata": {},
          "execution_count": 45
        }
      ]
    },
    {
      "cell_type": "code",
      "source": [
        "isto_aqui_eh_uma_terceira_variavel.append(100)"
      ],
      "metadata": {
        "id": "Q6mwgTPQY1SM"
      },
      "execution_count": null,
      "outputs": []
    },
    {
      "cell_type": "code",
      "source": [
        "isto_aqui_eh_uma_variavel"
      ],
      "metadata": {
        "colab": {
          "base_uri": "https://localhost:8080/"
        },
        "id": "NNw6Mp0QY40v",
        "outputId": "5c7f5a2c-a0b1-4a80-f6d0-e81b453a2021"
      },
      "execution_count": null,
      "outputs": [
        {
          "output_type": "execute_result",
          "data": {
            "text/plain": [
              "[1, 2, 5, 6, 3, 4, 99]"
            ]
          },
          "metadata": {},
          "execution_count": 47
        }
      ]
    },
    {
      "cell_type": "code",
      "source": [
        "isto_aqui_eh_uma_outra_variavel"
      ],
      "metadata": {
        "colab": {
          "base_uri": "https://localhost:8080/"
        },
        "id": "ZzkriOiTY8Ga",
        "outputId": "9a52ec5c-8d0d-48d3-80a0-932933f7cad2"
      },
      "execution_count": null,
      "outputs": [
        {
          "output_type": "execute_result",
          "data": {
            "text/plain": [
              "[1, 2, 5, 6, 3, 4, 99]"
            ]
          },
          "metadata": {},
          "execution_count": 48
        }
      ]
    },
    {
      "cell_type": "code",
      "source": [
        "isto_aqui_eh_uma_terceira_variavel"
      ],
      "metadata": {
        "colab": {
          "base_uri": "https://localhost:8080/"
        },
        "id": "1X_fVaCIY-AN",
        "outputId": "9b41531d-9650-4b16-af81-cd8ef08b8ada"
      },
      "execution_count": null,
      "outputs": [
        {
          "output_type": "execute_result",
          "data": {
            "text/plain": [
              "[1, 2, 5, 6, 3, 4, 100]"
            ]
          },
          "metadata": {},
          "execution_count": 49
        }
      ]
    },
    {
      "cell_type": "markdown",
      "source": [
        "Com os experimentos anteriores podemos comprovar uma propriedade interessante do **Python**. Diferente de outras linguagens em que quando se atribui o valor de uma variável $X$ qualquer a outro objeto $Y$, ao invés de $Y$ apenas assumir distintamente os valores de $X$, $Y$ acaba tornando-se $X$.\n",
        "\n",
        "Note que para que $Y$ apenas assuma os valores de $X$, o método **$.copy()$** deve ser evocado."
      ],
      "metadata": {
        "id": "nfFnpppmfXSd"
      }
    },
    {
      "cell_type": "markdown",
      "source": [
        "**Agora veja o caso a seguir** pois iremos ver a passagem de argumentos. Observe a seguinte $função$ abaixo:"
      ],
      "metadata": {
        "id": "RSBwRQRqkw7L"
      }
    },
    {
      "cell_type": "code",
      "source": [
        "def adicionar_elemento(alguma_lista, novo_elemento):\n",
        "  alguma_lista.append(novo_elemento)\n",
        "  # print(alguma_lista)"
      ],
      "metadata": {
        "id": "CHJoCQe3gKWf"
      },
      "execution_count": null,
      "outputs": []
    },
    {
      "cell_type": "code",
      "source": [
        "lista = [1, 2, 3]\n",
        "\n",
        "adicionar_elemento(lista, 'teste')"
      ],
      "metadata": {
        "id": "t88SmEq3leit"
      },
      "execution_count": null,
      "outputs": []
    },
    {
      "cell_type": "code",
      "source": [
        "lista"
      ],
      "metadata": {
        "colab": {
          "base_uri": "https://localhost:8080/"
        },
        "id": "MmTnG00Illuc",
        "outputId": "0d990b93-a3e0-441e-fad6-200a639c7435"
      },
      "execution_count": null,
      "outputs": [
        {
          "output_type": "execute_result",
          "data": {
            "text/plain": [
              "[1, 2, 3, 'teste']"
            ]
          },
          "metadata": {},
          "execution_count": 13
        }
      ]
    },
    {
      "cell_type": "markdown",
      "source": [
        "***\n",
        "### **Referências Dinâmicas, tipos fortes**"
      ],
      "metadata": {
        "id": "XjU-Dfhll6aL"
      }
    },
    {
      "cell_type": "markdown",
      "source": [
        "$Quase$ tudo dá, mas $quase$ nem tudo pode.\n",
        "\n",
        "![image.png](data:image/png;base64,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)"
      ],
      "metadata": {
        "id": "CwlkfXZ0nnGD"
      }
    },
    {
      "cell_type": "markdown",
      "source": [
        "Embora o **Python** não veja problema em ora declarar que uma variável $a$ qualquer receba o valor $1$, por exemplo, e ora declarar que $a$ passa a valer $'teste'$, $Python$ é sim uma linguagem *$fortemente$ $tipada$*. Vamoas às provas:"
      ],
      "metadata": {
        "id": "Wym_1qpWn8J1"
      }
    },
    {
      "cell_type": "code",
      "source": [
        "#primeiro passo será provar que o Python não vê problema em alterar o tipo da variável conforme o código evolui.\n",
        "\n",
        "a = 1\n",
        "print(type(a))"
      ],
      "metadata": {
        "id": "gN0qCz46l17n",
        "colab": {
          "base_uri": "https://localhost:8080/"
        },
        "outputId": "354d3e3d-3f86-4c9b-a7e4-d76c3e950d83"
      },
      "execution_count": null,
      "outputs": [
        {
          "output_type": "stream",
          "name": "stdout",
          "text": [
            "<class 'int'>\n"
          ]
        }
      ]
    },
    {
      "cell_type": "code",
      "source": [
        "a = 'teste'\n",
        "print(type(a))"
      ],
      "metadata": {
        "colab": {
          "base_uri": "https://localhost:8080/"
        },
        "id": "a3lKueHfo3Lk",
        "outputId": "400b5103-97c6-4c6c-c253-8855099cb883"
      },
      "execution_count": null,
      "outputs": [
        {
          "output_type": "stream",
          "name": "stdout",
          "text": [
            "<class 'str'>\n"
          ]
        }
      ]
    },
    {
      "cell_type": "markdown",
      "source": [
        "Agora, querido aluno, deixe-me provar que $Python$ é fortemente tipado, veja:"
      ],
      "metadata": {
        "id": "6p_ePEnUpApd"
      }
    },
    {
      "cell_type": "code",
      "source": [
        "b = '9'\n",
        "c = 9\n",
        "d = b+c"
      ],
      "metadata": {
        "colab": {
          "base_uri": "https://localhost:8080/",
          "height": 209
        },
        "id": "t7xOu_3lo5p6",
        "outputId": "4448b0cf-808b-4b09-e882-0c502b407d08"
      },
      "execution_count": null,
      "outputs": [
        {
          "output_type": "error",
          "ename": "TypeError",
          "evalue": "ignored",
          "traceback": [
            "\u001b[0;31m---------------------------------------------------------------------------\u001b[0m",
            "\u001b[0;31mTypeError\u001b[0m                                 Traceback (most recent call last)",
            "\u001b[0;32m<ipython-input-20-f72595816470>\u001b[0m in \u001b[0;36m<module>\u001b[0;34m()\u001b[0m\n\u001b[1;32m      1\u001b[0m \u001b[0mb\u001b[0m \u001b[0;34m=\u001b[0m \u001b[0;34m'9'\u001b[0m\u001b[0;34m\u001b[0m\u001b[0;34m\u001b[0m\u001b[0m\n\u001b[1;32m      2\u001b[0m \u001b[0mc\u001b[0m \u001b[0;34m=\u001b[0m \u001b[0;36m9\u001b[0m\u001b[0;34m\u001b[0m\u001b[0;34m\u001b[0m\u001b[0m\n\u001b[0;32m----> 3\u001b[0;31m \u001b[0md\u001b[0m \u001b[0;34m=\u001b[0m \u001b[0mb\u001b[0m\u001b[0;34m+\u001b[0m\u001b[0mc\u001b[0m\u001b[0;34m\u001b[0m\u001b[0;34m\u001b[0m\u001b[0m\n\u001b[0m",
            "\u001b[0;31mTypeError\u001b[0m: can only concatenate str (not \"int\") to str"
          ]
        }
      ]
    },
    {
      "cell_type": "markdown",
      "source": [
        "Executar o código acima no $Visual$ $Basic$, por exemplo, é possível, pois a $string$ $'9'$ pode ser implicitamente convertida (ou sofrer um $cast$) para um inteiro permitindo, assim, que a soma seja satisfeita e o resultado $18$ seja impresso.\n",
        "\n",
        "Entretando, outras linguagens, como $JavaScript$, pode haver um $cast$ do inteiro 9 para $string$, resultando na $string$ concatenada $'99'$.\n",
        "\n",
        "Assim a prova da qual me comprometi está mais do que afirmada e **podemos, sim, considerar o carácter $fortemente$ $tipado$ da linguagem $Python$**.\n",
        "\n",
        "Em outras palavras, isto significa que o **todo objeto tem um tipo (ou classe) específico**, e conversões implícitas poderão ocorrer somente em determinadas circunstância óbvias, como a seguir:"
      ],
      "metadata": {
        "id": "8hNZpwxzp5VH"
      }
    },
    {
      "cell_type": "code",
      "source": [
        "a = 1.6\n",
        "type(a)"
      ],
      "metadata": {
        "colab": {
          "base_uri": "https://localhost:8080/"
        },
        "id": "VONMH0tEpXJz",
        "outputId": "9a57de4f-9fc0-4a81-905e-f2e6e9ae0a50"
      },
      "execution_count": null,
      "outputs": [
        {
          "output_type": "execute_result",
          "data": {
            "text/plain": [
              "float"
            ]
          },
          "metadata": {},
          "execution_count": 21
        }
      ]
    },
    {
      "cell_type": "code",
      "source": [
        "b = 4\n",
        "type(b)"
      ],
      "metadata": {
        "colab": {
          "base_uri": "https://localhost:8080/"
        },
        "id": "zmRID0kzrtgt",
        "outputId": "17e2dbd0-016e-40b9-dd04-478c6a4b63c3"
      },
      "execution_count": null,
      "outputs": [
        {
          "output_type": "execute_result",
          "data": {
            "text/plain": [
              "int"
            ]
          },
          "metadata": {},
          "execution_count": 23
        }
      ]
    },
    {
      "cell_type": "code",
      "source": [
        "c = a/b\n",
        "print('O tipo da váriável \"C\" é {0} e o seu resultado é {1}'.format(type(c), c))"
      ],
      "metadata": {
        "colab": {
          "base_uri": "https://localhost:8080/"
        },
        "id": "_CHLOfEgrvs7",
        "outputId": "eaad4218-91b8-4241-8592-5c83e470cc66"
      },
      "execution_count": null,
      "outputs": [
        {
          "output_type": "stream",
          "name": "stdout",
          "text": [
            "O tipo da váriável \"C\" é <class 'float'> e o seu resultado é 0.4\n"
          ]
        }
      ]
    },
    {
      "cell_type": "markdown",
      "source": [
        "Em alguns momentos, pode ser importante saber se determinada variável é de um tipo ou de outro, e para saber disto, uma função que poderá achar útil é: $isinstance$. Veja:"
      ],
      "metadata": {
        "id": "V3W22wV8tqwQ"
      }
    },
    {
      "cell_type": "code",
      "source": [
        "a = 123\n",
        "\n",
        "isinstance(a, str)"
      ],
      "metadata": {
        "id": "yFrzf9MUr1wO",
        "colab": {
          "base_uri": "https://localhost:8080/"
        },
        "outputId": "6a129fd2-cdfa-4f6c-bb68-cbe3ae82b0a2"
      },
      "execution_count": null,
      "outputs": [
        {
          "output_type": "execute_result",
          "data": {
            "text/plain": [
              "False"
            ]
          },
          "metadata": {},
          "execution_count": 30
        }
      ]
    },
    {
      "cell_type": "code",
      "source": [
        "isinstance(a, float)"
      ],
      "metadata": {
        "colab": {
          "base_uri": "https://localhost:8080/"
        },
        "id": "y5Oo8-cnuBlN",
        "outputId": "16ca23f7-ef5e-4119-c4c5-58fa6d3331ba"
      },
      "execution_count": null,
      "outputs": [
        {
          "output_type": "execute_result",
          "data": {
            "text/plain": [
              "False"
            ]
          },
          "metadata": {},
          "execution_count": 32
        }
      ]
    },
    {
      "cell_type": "code",
      "source": [
        "isinstance(a, int)"
      ],
      "metadata": {
        "colab": {
          "base_uri": "https://localhost:8080/"
        },
        "id": "6agBJvxWuPnt",
        "outputId": "f201a451-dc17-4854-8f4b-62676c227e6a"
      },
      "execution_count": null,
      "outputs": [
        {
          "output_type": "execute_result",
          "data": {
            "text/plain": [
              "True"
            ]
          },
          "metadata": {},
          "execution_count": 33
        }
      ]
    },
    {
      "cell_type": "markdown",
      "source": [
        "Pode-se passar uma $tupla$ para a função $isinstance$ de maneira que poderá testar se a variável é de um tipo ou de outro. Observe:"
      ],
      "metadata": {
        "id": "8YmAngM6ubFN"
      }
    },
    {
      "cell_type": "code",
      "source": [
        "a = 'teste'\n",
        "b = 2.43\n",
        "c = 4\n",
        "\n",
        "isinstance(a, (float, str))"
      ],
      "metadata": {
        "colab": {
          "base_uri": "https://localhost:8080/"
        },
        "id": "KneGmP_GumlE",
        "outputId": "96bff0d1-3a30-405f-a22a-467bcb82bf4d"
      },
      "execution_count": null,
      "outputs": [
        {
          "output_type": "execute_result",
          "data": {
            "text/plain": [
              "True"
            ]
          },
          "metadata": {},
          "execution_count": 35
        }
      ]
    },
    {
      "cell_type": "code",
      "source": [
        "isinstance(b, (float, str))"
      ],
      "metadata": {
        "colab": {
          "base_uri": "https://localhost:8080/"
        },
        "id": "vadPwkW8uwxZ",
        "outputId": "2548bb66-9bfb-4326-dbd2-b37a7589c56a"
      },
      "execution_count": null,
      "outputs": [
        {
          "output_type": "execute_result",
          "data": {
            "text/plain": [
              "True"
            ]
          },
          "metadata": {},
          "execution_count": 36
        }
      ]
    },
    {
      "cell_type": "code",
      "source": [
        "isinstance(c, (float, str))"
      ],
      "metadata": {
        "colab": {
          "base_uri": "https://localhost:8080/"
        },
        "id": "eqTJutLbu1C2",
        "outputId": "d9259e93-e37c-4eac-cf0c-469938b00d42"
      },
      "execution_count": null,
      "outputs": [
        {
          "output_type": "execute_result",
          "data": {
            "text/plain": [
              "False"
            ]
          },
          "metadata": {},
          "execution_count": 37
        }
      ]
    },
    {
      "cell_type": "markdown",
      "source": [
        "***"
      ],
      "metadata": {
        "id": "Oz5vb7TSvz4-"
      }
    },
    {
      "cell_type": "markdown",
      "source": [
        "### **Atributos e Métodos**"
      ],
      "metadata": {
        "id": "sQSisv8uvsX-"
      }
    },
    {
      "cell_type": "markdown",
      "source": [
        "Em $Python$, objetos possuem ambos $atributos$ (outros $objetos$ $Python$ armazenados $dentro$ do objeto em questão) e $métodos$ (funções associadas a um objeto, geralmente relacionadas ao seu tipo). Veja alguns atributos:"
      ],
      "metadata": {
        "id": "ZRU1h_HjwIXa"
      }
    },
    {
      "cell_type": "code",
      "source": [
        "a = 'Meu nome é Diego'"
      ],
      "metadata": {
        "id": "TnJiqUjkSpju"
      },
      "execution_count": null,
      "outputs": []
    },
    {
      "cell_type": "code",
      "source": [
        "print(a.capitalize())\n",
        "#Teste você agora digitando uma nova instrução iniciando pela variável \"a\", digite \".\" e \"<tab>\"\n",
        "\n",
        "#a. "
      ],
      "metadata": {
        "colab": {
          "base_uri": "https://localhost:8080/"
        },
        "id": "VeEVxYzqTbYV",
        "outputId": "6b0c109f-3e2f-41bb-eb17-e8a918423472"
      },
      "execution_count": null,
      "outputs": [
        {
          "output_type": "stream",
          "name": "stdout",
          "text": [
            "Teste\n"
          ]
        }
      ]
    },
    {
      "cell_type": "code",
      "source": [
        "b = 3\n",
        "#b."
      ],
      "metadata": {
        "id": "0q_KdzZNwxq7"
      },
      "execution_count": null,
      "outputs": []
    },
    {
      "cell_type": "markdown",
      "source": [
        "### **Ducking Typing**\n",
        "\n",
        ">_Se anda como um Pato e faz $quack$ como um pato, então é um pato_\n",
        "\n",
        "![image.png](data:image/png;base64,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)\n",
        "\n",
        "A expressão divertida acima refere-se que caso você não se importe com o tipo de um objeto, basta satisfazer-se analisando se determinado objeto possui determinados métodos e atributos. Por exemplo, você pode verificar se determinado **objeto é iteravel** executando o código abaixo. Veja:"
      ],
      "metadata": {
        "id": "Pl0NT59MxAvA"
      }
    },
    {
      "cell_type": "code",
      "source": [
        "def ehiteravel(obj):\n",
        "  try:\n",
        "    iter(obj)\n",
        "    return True\n",
        "  except TypeError: #não é iterável\n",
        "    return False"
      ],
      "metadata": {
        "id": "jydtijscxxo5"
      },
      "execution_count": null,
      "outputs": []
    },
    {
      "cell_type": "markdown",
      "source": [
        "Se você observar bem o código da função acima, irá notar que esta retornará $verdadeiro$ ($True$) se o objeto puder sofrer iterações. Do contrário irá retornar $Falso$ ($False$) conforme tratamento de erro. Experimente:"
      ],
      "metadata": {
        "id": "I5NZtN_0zY1i"
      }
    },
    {
      "cell_type": "code",
      "source": [
        "a = 'strings são iteráveis'\n",
        "ehiteravel(a)"
      ],
      "metadata": {
        "id": "DPpKpzFby00x",
        "colab": {
          "base_uri": "https://localhost:8080/"
        },
        "outputId": "2129610b-3aa4-4295-9b61-ad0957c85186"
      },
      "execution_count": null,
      "outputs": [
        {
          "output_type": "execute_result",
          "data": {
            "text/plain": [
              "True"
            ]
          },
          "metadata": {},
          "execution_count": 5
        }
      ]
    },
    {
      "cell_type": "code",
      "source": [
        "b = ['listas', 'são', 'iteráveis', (1, 2)]\n",
        "ehiteravel(b)"
      ],
      "metadata": {
        "id": "RYkTFkLsyxhn",
        "colab": {
          "base_uri": "https://localhost:8080/"
        },
        "outputId": "08ce3985-8813-451f-bba1-b323a4ae0ddd"
      },
      "execution_count": null,
      "outputs": [
        {
          "output_type": "execute_result",
          "data": {
            "text/plain": [
              "True"
            ]
          },
          "metadata": {},
          "execution_count": 6
        }
      ]
    },
    {
      "cell_type": "code",
      "source": [
        "#inteiro não é iterável\n",
        "c = 7\n",
        "ehiteravel(c)"
      ],
      "metadata": {
        "colab": {
          "base_uri": "https://localhost:8080/"
        },
        "id": "Y8a3ALl10QHr",
        "outputId": "67862c43-0377-4c83-9fa7-73711fe5217e"
      },
      "execution_count": null,
      "outputs": [
        {
          "output_type": "execute_result",
          "data": {
            "text/plain": [
              "False"
            ]
          },
          "metadata": {},
          "execution_count": 7
        }
      ]
    },
    {
      "cell_type": "markdown",
      "source": [
        "## **Importando Bibliotecas**\n",
        "\n",
        "Veja as instruções abaixo:"
      ],
      "metadata": {
        "id": "-1b8JxKzr8S1"
      }
    },
    {
      "cell_type": "code",
      "source": [
        "import pandas as pd\n",
        "import numpy as np"
      ],
      "metadata": {
        "id": "DPOt_V0ZsH3W"
      },
      "execution_count": null,
      "outputs": []
    },
    {
      "cell_type": "markdown",
      "source": [
        "**#dicaTT** / **\\#dicadoBilly**: _Como criar e importar módulos do usuário aqui no Colab._"
      ],
      "metadata": {
        "id": "Xu9WH88JsGz8"
      }
    },
    {
      "cell_type": "code",
      "source": [
        "from google.colab import drive\n",
        "drive.mount('/content/drive')"
      ],
      "metadata": {
        "id": "fD-felH30W2K",
        "colab": {
          "base_uri": "https://localhost:8080/"
        },
        "outputId": "6e15f1d7-c4b0-41c3-bf8f-b7dcc5c5282c"
      },
      "execution_count": null,
      "outputs": [
        {
          "output_type": "stream",
          "name": "stdout",
          "text": [
            "Mounted at /content/drive\n"
          ]
        }
      ]
    },
    {
      "cell_type": "code",
      "source": [
        "%cd /content/drive/MyDrive/TT\n",
        "\n",
        "!ls"
      ],
      "metadata": {
        "id": "zaGPxJXDq5M6",
        "colab": {
          "base_uri": "https://localhost:8080/"
        },
        "outputId": "1233851c-66c2-4d3c-9048-0163d774e4e6"
      },
      "execution_count": null,
      "outputs": [
        {
          "output_type": "stream",
          "name": "stdout",
          "text": [
            "/content/drive/MyDrive/TT\n",
            "'Formação Data Science'   moduloteste.py\n"
          ]
        }
      ]
    },
    {
      "cell_type": "code",
      "source": [
        "import moduloteste as DB"
      ],
      "metadata": {
        "id": "xzKgi_Jjs-ba"
      },
      "execution_count": null,
      "outputs": []
    },
    {
      "cell_type": "code",
      "source": [
        "print(DB.CONSTANTE)"
      ],
      "metadata": {
        "colab": {
          "base_uri": "https://localhost:8080/"
        },
        "id": "USiiDnKgtLpD",
        "outputId": "2de20f4e-5d1a-43f8-a664-4627f3d59cf1"
      },
      "execution_count": null,
      "outputs": [
        {
          "output_type": "stream",
          "name": "stdout",
          "text": [
            "123456\n"
          ]
        }
      ]
    },
    {
      "cell_type": "code",
      "source": [
        "print(DB.testeImportacao(3))"
      ],
      "metadata": {
        "colab": {
          "base_uri": "https://localhost:8080/"
        },
        "id": "0UTyg1amtYYa",
        "outputId": "d3002948-8f82-4a9f-caa9-9e1269b43aa8"
      },
      "execution_count": null,
      "outputs": [
        {
          "output_type": "stream",
          "name": "stdout",
          "text": [
            "5\n"
          ]
        }
      ]
    },
    {
      "cell_type": "markdown",
      "source": [
        "Ou de modo equivalente:"
      ],
      "metadata": {
        "id": "EQHu5Z-4uCkH"
      }
    },
    {
      "cell_type": "code",
      "source": [
        "from moduloteste import testeImportacao"
      ],
      "metadata": {
        "id": "WvCKZViKtdUD"
      },
      "execution_count": null,
      "outputs": []
    },
    {
      "cell_type": "code",
      "source": [
        "testeImportacao(7)"
      ],
      "metadata": {
        "colab": {
          "base_uri": "https://localhost:8080/"
        },
        "id": "QlIHd3yjuJ4E",
        "outputId": "d689c2f3-8a53-4007-e250-61a3004cfdf6"
      },
      "execution_count": null,
      "outputs": [
        {
          "output_type": "execute_result",
          "data": {
            "text/plain": [
              "9"
            ]
          },
          "metadata": {},
          "execution_count": 24
        }
      ]
    },
    {
      "cell_type": "markdown",
      "source": [
        "***\n",
        "### **Operadores Binários e Comparações**\n",
        "\n",
        "#### **Diferença entre Atribuição e Comparação**\n",
        "\n",
        "**1. Atribuição** é quando passamos um valor (à direita da igualdade) para uma **variável** (à esquerda da igualdade, como o exemplo abaixo:\n",
        "> $var$ = $'valor$ $qualquer'$ <br>(sentido da atribuição: **$var$** <font size='24'>&larr;</font> $'valor$ $qualquer'$)\n",
        "\n",
        "Entretanto, quando queremos comparar (saber) algo sobre uma varável (objeto), daoms o nome de **comparação** através dos operadores listados na tabela abaixo:\n",
        "\n",
        "| Operação \t| Descrição \t|\n",
        "|---\t|---\t|\n",
        "| $a$ $==$ $b$ \t| $True$ se a for igual a b \t|\n",
        "| $a$ $!=$ $b$ \t| $True$ se a for diferente de b \t|\n",
        "| $a$ $<$ $b;$ $a$ $<=$ $b$ \t| $True$ se a for menor que (menor ou igual a) b \t|\n",
        "| $a$ $>$ $b;$ $a$ $>=$ $b$ \t| $True$ se a for maior que (maior ou igual a) b \t|\n",
        "| $a$ $is$ $b$ \t| $True$ se a e b referenciarem o mesmo objeto Python \t|\n",
        "| $a$ $is$ $not$ $b$ \t| $True$ se a e b referenciarem objetos Python diferentes \t|\n",
        "| $a$ & $b$ \t| $True$ se tanto a quanto b forem $True$; para inteiros é a operação bit a bit (_bitwise_) $\"and\"$ \t|\n",
        "| $a$ $|$ $b$ \t| $True$ se $a$ ou $b$ forem $True$; para inteiros, é a operação bit a bit $\"or\"$ \t|\n",
        "| $a$ ^ $b$ \t| Para booleanos, $True$ se a ou b forem $True$ mas não ao mesmo tempo; para inteiros, é a operação bit a bit $exclusive-or$\n",
        "\n",
        "Veja na prática:"
      ],
      "metadata": {
        "id": "uggnVLordT2v"
      }
    },
    {
      "cell_type": "code",
      "source": [
        "a = 1\n",
        "a"
      ],
      "metadata": {
        "colab": {
          "base_uri": "https://localhost:8080/"
        },
        "id": "AZ0DJsmxeUEL",
        "outputId": "de0247aa-413e-48e3-d3f6-58b7f8fca9dd"
      },
      "execution_count": 1,
      "outputs": [
        {
          "output_type": "execute_result",
          "data": {
            "text/plain": [
              "1"
            ]
          },
          "metadata": {},
          "execution_count": 1
        }
      ]
    },
    {
      "cell_type": "code",
      "source": [
        "b = 2\n",
        "b "
      ],
      "metadata": {
        "id": "UD-oxCajuM7a",
        "colab": {
          "base_uri": "https://localhost:8080/"
        },
        "outputId": "ad4a3730-4707-493b-df91-3fbed5355a8a"
      },
      "execution_count": 2,
      "outputs": [
        {
          "output_type": "execute_result",
          "data": {
            "text/plain": [
              "2"
            ]
          },
          "metadata": {},
          "execution_count": 2
        }
      ]
    },
    {
      "cell_type": "code",
      "source": [
        "a <= b"
      ],
      "metadata": {
        "colab": {
          "base_uri": "https://localhost:8080/"
        },
        "id": "vDRqZz3Sluat",
        "outputId": "1cdeb6b1-3808-4baa-9ef4-65153cac7da4"
      },
      "execution_count": 4,
      "outputs": [
        {
          "output_type": "execute_result",
          "data": {
            "text/plain": [
              "True"
            ]
          },
          "metadata": {},
          "execution_count": 4
        }
      ]
    },
    {
      "cell_type": "code",
      "source": [
        "a == b"
      ],
      "metadata": {
        "colab": {
          "base_uri": "https://localhost:8080/"
        },
        "id": "hL1JXfBdlpgl",
        "outputId": "cb6d13d9-802a-4eff-91ca-0865fe06dee7"
      },
      "execution_count": 3,
      "outputs": [
        {
          "output_type": "execute_result",
          "data": {
            "text/plain": [
              "False"
            ]
          },
          "metadata": {},
          "execution_count": 3
        }
      ]
    },
    {
      "cell_type": "code",
      "source": [
        "a is b"
      ],
      "metadata": {
        "colab": {
          "base_uri": "https://localhost:8080/"
        },
        "id": "R-jn1GZMlxht",
        "outputId": "bb98cffb-e347-4aae-dfbc-bc3d1a1b7d4c"
      },
      "execution_count": 5,
      "outputs": [
        {
          "output_type": "execute_result",
          "data": {
            "text/plain": [
              "False"
            ]
          },
          "metadata": {},
          "execution_count": 5
        }
      ]
    },
    {
      "cell_type": "markdown",
      "source": [
        "Trivial, não é mesmo? Agora o aluno deve estar se perguntando qual a diferença entre $==$ para $is$? Respondo. Observe:"
      ],
      "metadata": {
        "id": "fR2aE9Ucl5kU"
      }
    },
    {
      "cell_type": "code",
      "source": [
        "a = [1, 2, 3]\n",
        "a"
      ],
      "metadata": {
        "colab": {
          "base_uri": "https://localhost:8080/"
        },
        "id": "EhVY9y_mlzsk",
        "outputId": "32cbf2be-cac4-4196-d787-16503d391384"
      },
      "execution_count": 10,
      "outputs": [
        {
          "output_type": "execute_result",
          "data": {
            "text/plain": [
              "[1, 2, 3]"
            ]
          },
          "metadata": {},
          "execution_count": 10
        }
      ]
    },
    {
      "cell_type": "code",
      "source": [
        "b = a\n",
        "b"
      ],
      "metadata": {
        "colab": {
          "base_uri": "https://localhost:8080/"
        },
        "id": "qihNkIOGmQCp",
        "outputId": "b7f5e137-71aa-457c-dd84-2a35e65e4519"
      },
      "execution_count": 11,
      "outputs": [
        {
          "output_type": "execute_result",
          "data": {
            "text/plain": [
              "[1, 2, 3]"
            ]
          },
          "metadata": {},
          "execution_count": 11
        }
      ]
    },
    {
      "cell_type": "code",
      "source": [
        "c = list(a)\n",
        "c"
      ],
      "metadata": {
        "colab": {
          "base_uri": "https://localhost:8080/"
        },
        "id": "Js0ZOWiWmReZ",
        "outputId": "498f3d14-643e-4432-c123-6d799a6eef6f"
      },
      "execution_count": 12,
      "outputs": [
        {
          "output_type": "execute_result",
          "data": {
            "text/plain": [
              "[1, 2, 3]"
            ]
          },
          "metadata": {},
          "execution_count": 12
        }
      ]
    },
    {
      "cell_type": "code",
      "source": [
        "a is b"
      ],
      "metadata": {
        "colab": {
          "base_uri": "https://localhost:8080/"
        },
        "id": "VhVX5u4JmTa0",
        "outputId": "7ac2ea3d-06e9-48da-9c8f-b4f6945cbf6c"
      },
      "execution_count": 13,
      "outputs": [
        {
          "output_type": "execute_result",
          "data": {
            "text/plain": [
              "True"
            ]
          },
          "metadata": {},
          "execution_count": 13
        }
      ]
    },
    {
      "cell_type": "code",
      "source": [
        "a is c"
      ],
      "metadata": {
        "colab": {
          "base_uri": "https://localhost:8080/"
        },
        "id": "I3fTu31smVKV",
        "outputId": "00fb66e9-4a96-4dfa-a515-47872ea92e79"
      },
      "execution_count": 14,
      "outputs": [
        {
          "output_type": "execute_result",
          "data": {
            "text/plain": [
              "False"
            ]
          },
          "metadata": {},
          "execution_count": 14
        }
      ]
    },
    {
      "cell_type": "markdown",
      "source": [
        "![image.png](data:image/png;base64,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) Bom, realmente parece um pouco confuso, mas veja, lembra o que vimos anteriormente que quando atribuimos um valor $Y$ a uma veriável $X$ qualquer, a variável $X$ acaba **tornando-se** $Y$, isto é, se $Y$ sofrer um alteração, esta alteração se refletirá em $X$ e _vice versa_. Assim, foi o que aconteceu no caso da atribuição $b$ $=$ $a$, $b$ se tornou $a$ e ambos passaram a coexistir ao mesmo tempo.\n",
        "\n",
        "Embora, possa parecer que a mesma operação foi realizada quando atribuimos à $c$ uma lista de $a$, devo advertir que o comando $list(var)$ cria uma cópia de $var$, fazendo com que $c$ seja distinto de $a$.\n",
        "\n",
        "Veja abaixo para ver se fica mais claro:"
      ],
      "metadata": {
        "id": "Y8m04IVsmheM"
      }
    },
    {
      "cell_type": "code",
      "source": [
        "#novamente\n",
        "a is c"
      ],
      "metadata": {
        "colab": {
          "base_uri": "https://localhost:8080/"
        },
        "id": "3G1xZmTJma_x",
        "outputId": "3fe1e99f-b7f6-465e-ca15-76b36d18e254"
      },
      "execution_count": 15,
      "outputs": [
        {
          "output_type": "execute_result",
          "data": {
            "text/plain": [
              "False"
            ]
          },
          "metadata": {},
          "execution_count": 15
        }
      ]
    },
    {
      "cell_type": "code",
      "source": [
        "a == c"
      ],
      "metadata": {
        "colab": {
          "base_uri": "https://localhost:8080/"
        },
        "id": "AgCNxUvroJ-g",
        "outputId": "8049fb93-a22c-4a70-8b1e-184ee2b83c0e"
      },
      "execution_count": 16,
      "outputs": [
        {
          "output_type": "execute_result",
          "data": {
            "text/plain": [
              "True"
            ]
          },
          "metadata": {},
          "execution_count": 16
        }
      ]
    },
    {
      "cell_type": "markdown",
      "source": [
        "Viu? Provamos que o operador de comparação $is$ é diferente de $==$.\n",
        "\n",
        "Os demais operadores comparativos são triviais e não carecem de maiores aprofundamentos.\n",
        "<br><br>\n",
        "\n",
        "**\\#dicaTT / #dicadoBilly**: quando você compara objetos em Python os únicos valores de saída possíveis são **True** ou **False**"
      ],
      "metadata": {
        "id": "rK1twRbFoMNO"
      }
    },
    {
      "cell_type": "markdown",
      "source": [
        "**2. Operadores Binários**\n",
        "\n",
        "| Operação \t| Descrição \t|\n",
        "|---\t|---\t|\n",
        "| $a$ $+$ $b$ \t| Soma o valor de a ao valor de b \t|\n",
        "| $a$ $-$ $b$ \t| Subtrai o valor b de a \t|\n",
        "| $a$ $*$ $b$ \t| Multiplica o valor de a ao valor de b \t|\n",
        "| $a$ $/$ $b$ \t| Divide o valor de a pelo valor de b \t|\n",
        "| $a$ $//$ $b$ \t| Divide o valor de a pelo piso do valor de b, descartando qualquer resto fracionário. \t|\n",
        "| $a$ $**$ $b$ \t| Submete o valor de a à potência do valor de b \t|"
      ],
      "metadata": {
        "id": "Ru_JizCopJuW"
      }
    },
    {
      "cell_type": "code",
      "source": [
        ""
      ],
      "metadata": {
        "id": "LFZC1imroK9w"
      },
      "execution_count": null,
      "outputs": []
    }
  ]
}