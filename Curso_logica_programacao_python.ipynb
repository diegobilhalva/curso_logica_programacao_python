{
  "nbformat": 4,
  "nbformat_minor": 0,
  "metadata": {
    "colab": {
      "name": "Curso_logica_programacao_python.ipynb",
      "provenance": [],
      "collapsed_sections": [],
      "toc_visible": true,
      "authorship_tag": "ABX9TyMEJVoBudB/3X0VTNZe1Qw/",
      "include_colab_link": true
    },
    "kernelspec": {
      "name": "python3",
      "display_name": "Python 3"
    },
    "language_info": {
      "name": "python"
    }
  },
  "cells": [
    {
      "cell_type": "markdown",
      "metadata": {
        "id": "view-in-github",
        "colab_type": "text"
      },
      "source": [
        "<a href=\"https://colab.research.google.com/github/diegobilhalva/curso_logica_programacao_python/blob/main/Curso_logica_programacao_python.ipynb\" target=\"_parent\"><img src=\"https://colab.research.google.com/assets/colab-badge.svg\" alt=\"Open In Colab\"/></a>"
      ]
    },
    {
      "cell_type": "code",
      "source": [
        "!python --version"
      ],
      "metadata": {
        "colab": {
          "base_uri": "https://localhost:8080/"
        },
        "id": "TcIa06jXpe2G",
        "outputId": "f7042b5c-27d9-4571-c9a9-64ba46a050d7"
      },
      "execution_count": null,
      "outputs": [
        {
          "output_type": "stream",
          "name": "stdout",
          "text": [
            "Python 3.7.13\n"
          ]
        }
      ]
    },
    {
      "cell_type": "markdown",
      "source": [
        "# **Curso de Lógica de Programação Python**"
      ],
      "metadata": {
        "id": "kFdQIiizQjZL"
      }
    },
    {
      "cell_type": "markdown",
      "source": [
        "![diegobilhalva](https://media-exp1.licdn.com/dms/image/C4D03AQFvZEohEOafag/profile-displayphoto-shrink_200_200/0/1647916524603?e=1663200000&v=beta&t=nKUMYsNBFSEk32Al084314UWyT25GAb5T9X36bUB7y0)\n",
        "## $Instrutor:$ [$Diego Bilhalva$](https://www.linkedin.com/in/diegobilhalva)\n",
        "\n",
        "---\n",
        "\n",
        "\n",
        "\n",
        "![image.png](https://targettrust.com.br/wp-content/themes/bones/library/images/logo-novo.png)"
      ],
      "metadata": {
        "id": "Z-gp4d4VQokq"
      }
    },
    {
      "cell_type": "markdown",
      "source": [
        "## **Básico da Linguagem Python**"
      ],
      "metadata": {
        "id": "7_Lgf8TDRl0f"
      }
    },
    {
      "cell_type": "markdown",
      "source": [
        "### **Semântica da Linguagem**\n",
        "\n",
        "O **Python** é uma linguagem que se destaca por sua **fácil legibilidade**, por ter uma **simplicidade** incrível e de **caráter explícito**."
      ],
      "metadata": {
        "id": "yxhKm0-MRqJV"
      }
    },
    {
      "cell_type": "markdown",
      "source": [
        "### **Identação é o que separa as coisas**"
      ],
      "metadata": {
        "id": "BugHhfQJR-I2"
      }
    },
    {
      "cell_type": "code",
      "execution_count": null,
      "metadata": {
        "colab": {
          "base_uri": "https://localhost:8080/"
        },
        "id": "S2dnD8HRQec1",
        "outputId": "08ba6ebf-0fe3-4de9-fc62-5996d01dd43a"
      },
      "outputs": [
        {
          "output_type": "stream",
          "name": "stdout",
          "text": [
            "0\n",
            "1\n",
            "2\n",
            "i é maior que 3\n"
          ]
        }
      ],
      "source": [
        "import numpy as np\n",
        "\n",
        "j = np.arange(10)\n",
        "\n",
        "for i in j:\n",
        "  if i < 3:\n",
        "    print(i)\n",
        "  else:\n",
        "    print('i é maior que 3')\n",
        "    break"
      ]
    },
    {
      "cell_type": "markdown",
      "source": [
        "### Comentários"
      ],
      "metadata": {
        "id": "G8qP-we8TuV7"
      }
    },
    {
      "cell_type": "code",
      "source": [
        "import numpy as np\n",
        "\n",
        "# Isto é um comentário\n",
        "j = np.arange(10)\n",
        "\n",
        "for i in j:\n",
        "  if i < 3:\n",
        "    print(i) # isto também é um comentário\n",
        "  else:\n",
        "    print('i é maior que 3')\n",
        "    break"
      ],
      "metadata": {
        "colab": {
          "base_uri": "https://localhost:8080/"
        },
        "id": "SEL2_qShTsIc",
        "outputId": "032bb0fb-ca15-458c-e9a1-9c5d15931bd1"
      },
      "execution_count": null,
      "outputs": [
        {
          "output_type": "stream",
          "name": "stdout",
          "text": [
            "0\n",
            "1\n",
            "2\n",
            "i é maior que 3\n"
          ]
        }
      ]
    },
    {
      "cell_type": "markdown",
      "source": [
        "### **Tudo é um objeto**"
      ],
      "metadata": {
        "id": "Oe3yjVatTGgs"
      }
    },
    {
      "cell_type": "markdown",
      "source": [
        "Uma das maiores forças da linguagem **Python** é sua consistência de seu $modelo$ $de$ $objetos$. Todo número, string, estrutura de dados, função, classe, módulo e assim por diante existe no interpretador **Python** em sua própria $caixa$, que é referenciada como um $objeto$ $Python$. Todo objeto tem um $tipo$ associado (por exemplo, $string$ ou $função$) e dados internos. Em outras palavras, até mesmo funções podem ser tratadas como um objeto qualquer."
      ],
      "metadata": {
        "id": "YFiMwG8XZUQT"
      }
    },
    {
      "cell_type": "code",
      "source": [
        "a = 'Meu nome é Diego'"
      ],
      "metadata": {
        "id": "TnJiqUjkSpju"
      },
      "execution_count": null,
      "outputs": []
    },
    {
      "cell_type": "code",
      "source": [
        "print(a.capitalize())\n",
        "#Teste você agora digitando uma nova instrução iniciando pela variável \"a\", digite \".\" e \"<tab>\"\n",
        "\n",
        "#a."
      ],
      "metadata": {
        "colab": {
          "base_uri": "https://localhost:8080/"
        },
        "id": "VeEVxYzqTbYV",
        "outputId": "64620468-8dbf-4c87-d447-2a858149726e"
      },
      "execution_count": null,
      "outputs": [
        {
          "output_type": "stream",
          "name": "stdout",
          "text": [
            "Meu nome é diego\n"
          ]
        }
      ]
    },
    {
      "cell_type": "markdown",
      "source": [
        "### **Chamadas de Função e de métodos de objeto**\n",
        "\n",
        "Chame as **funções Python** usando parênteses e passando nenhum ou mais argumentos.\n",
        "\n",
        "***\n",
        "Exemplo:\n",
        "1.   $resultado = f(x, y, z)$\n",
        "2.   $r()$\n",
        "3.   $objK.algum\\_metodo(a, b, c)$ <font color='green'># quase todo objeto python tem funções associadas e devem serem chamadas assim</font>"
      ],
      "metadata": {
        "id": "O7SoIEQxUYW2"
      }
    },
    {
      "cell_type": "markdown",
      "source": [
        "### **Variáveis e passagem de argumentos**\n",
        "\n",
        "Ao se fazer uma atribuição a uma variável qualquer em **Python**, estamos chamando a $atenção$ para o objeto do lado direito da igualdade."
      ],
      "metadata": {
        "id": "THO3Ip4NVRSx"
      }
    },
    {
      "cell_type": "markdown",
      "source": [
        "#### **Considere os seguintes passos e reflita sobre cada etapa.**"
      ],
      "metadata": {
        "id": "10N8cphPap97"
      }
    },
    {
      "cell_type": "code",
      "source": [
        "isto_aqui_eh_uma_variavel #não definida. Em tese, uma variável só passa a existir após sua atribuição"
      ],
      "metadata": {
        "colab": {
          "base_uri": "https://localhost:8080/",
          "height": 172
        },
        "id": "bii6mE9STdrO",
        "outputId": "5b96cfdc-9e9c-4c54-847b-572790872cee"
      },
      "execution_count": null,
      "outputs": [
        {
          "output_type": "error",
          "ename": "NameError",
          "evalue": "ignored",
          "traceback": [
            "\u001b[0;31m---------------------------------------------------------------------------\u001b[0m",
            "\u001b[0;31mNameError\u001b[0m                                 Traceback (most recent call last)",
            "\u001b[0;32m<ipython-input-10-4b85e452cbc3>\u001b[0m in \u001b[0;36m<module>\u001b[0;34m()\u001b[0m\n\u001b[0;32m----> 1\u001b[0;31m \u001b[0misto_aqui_eh_uma_variavel\u001b[0m\u001b[0;34m\u001b[0m\u001b[0;34m\u001b[0m\u001b[0m\n\u001b[0m",
            "\u001b[0;31mNameError\u001b[0m: name 'isto_aqui_eh_uma_variavel' is not defined"
          ]
        }
      ]
    },
    {
      "cell_type": "code",
      "source": [
        "#atribuindo valor a uma variável\n",
        "\n",
        "isto_aqui_eh_uma_variavel = [1, 2, 5, 6]"
      ],
      "metadata": {
        "id": "QIi_8nmbXJx-"
      },
      "execution_count": null,
      "outputs": []
    },
    {
      "cell_type": "code",
      "source": [
        "isto_aqui_eh_uma_variavel"
      ],
      "metadata": {
        "colab": {
          "base_uri": "https://localhost:8080/"
        },
        "id": "CGWhaGJdXeui",
        "outputId": "af9fb8c3-3581-4921-e5ec-9ceeb75a1673"
      },
      "execution_count": null,
      "outputs": [
        {
          "output_type": "execute_result",
          "data": {
            "text/plain": [
              "[1, 2, 5, 6]"
            ]
          },
          "metadata": {},
          "execution_count": 34
        }
      ]
    },
    {
      "cell_type": "code",
      "source": [
        "isto_aqui_eh_uma_outra_variavel = isto_aqui_eh_uma_variavel"
      ],
      "metadata": {
        "id": "Qtj-ZgNGXhTb"
      },
      "execution_count": null,
      "outputs": []
    },
    {
      "cell_type": "code",
      "source": [
        "isto_aqui_eh_uma_outra_variavel"
      ],
      "metadata": {
        "colab": {
          "base_uri": "https://localhost:8080/"
        },
        "id": "smhWubOOXwsz",
        "outputId": "644ce71e-5898-4704-b429-ae61714bacb6"
      },
      "execution_count": null,
      "outputs": [
        {
          "output_type": "execute_result",
          "data": {
            "text/plain": [
              "[1, 2, 5, 6]"
            ]
          },
          "metadata": {},
          "execution_count": 36
        }
      ]
    },
    {
      "cell_type": "code",
      "source": [
        "isto_aqui_eh_uma_outra_variavel.append(3)\n"
      ],
      "metadata": {
        "id": "QMVbTQFEYFzy"
      },
      "execution_count": null,
      "outputs": []
    },
    {
      "cell_type": "code",
      "source": [
        "isto_aqui_eh_uma_variavel.append(4)"
      ],
      "metadata": {
        "id": "idGvo5tUXxIi"
      },
      "execution_count": null,
      "outputs": []
    },
    {
      "cell_type": "code",
      "source": [
        "isto_aqui_eh_uma_variavel"
      ],
      "metadata": {
        "colab": {
          "base_uri": "https://localhost:8080/"
        },
        "id": "l6kAXTEPYFVc",
        "outputId": "2bfb4902-e663-48c8-97e5-04ee7f4cf565"
      },
      "execution_count": null,
      "outputs": [
        {
          "output_type": "execute_result",
          "data": {
            "text/plain": [
              "[1, 2, 5, 6, 3, 4]"
            ]
          },
          "metadata": {},
          "execution_count": 39
        }
      ]
    },
    {
      "cell_type": "code",
      "source": [
        "isto_aqui_eh_uma_outra_variavel"
      ],
      "metadata": {
        "colab": {
          "base_uri": "https://localhost:8080/"
        },
        "id": "mrZpabhJX0mB",
        "outputId": "9911f384-53fe-4943-a01b-ca019d4e7338"
      },
      "execution_count": null,
      "outputs": [
        {
          "output_type": "execute_result",
          "data": {
            "text/plain": [
              "[1, 2, 5, 6, 3, 4]"
            ]
          },
          "metadata": {},
          "execution_count": 40
        }
      ]
    },
    {
      "cell_type": "code",
      "source": [
        "isto_aqui_eh_uma_terceira_variavel = isto_aqui_eh_uma_outra_variavel.copy() #ATENÇÃO"
      ],
      "metadata": {
        "id": "VYQszviCYbkc"
      },
      "execution_count": null,
      "outputs": []
    },
    {
      "cell_type": "code",
      "source": [
        "isto_aqui_eh_uma_variavel.append(99)"
      ],
      "metadata": {
        "id": "5y8kZRSxYn3B"
      },
      "execution_count": null,
      "outputs": []
    },
    {
      "cell_type": "code",
      "source": [
        "isto_aqui_eh_uma_variavel"
      ],
      "metadata": {
        "colab": {
          "base_uri": "https://localhost:8080/"
        },
        "id": "8UaPRef_YrTH",
        "outputId": "7c3bfc46-cdba-441e-9e7d-53de9ccead96"
      },
      "execution_count": null,
      "outputs": [
        {
          "output_type": "execute_result",
          "data": {
            "text/plain": [
              "[1, 2, 5, 6, 3, 4, 99]"
            ]
          },
          "metadata": {},
          "execution_count": 43
        }
      ]
    },
    {
      "cell_type": "code",
      "source": [
        "isto_aqui_eh_uma_outra_variavel"
      ],
      "metadata": {
        "colab": {
          "base_uri": "https://localhost:8080/"
        },
        "id": "a4y1_ddBYrDw",
        "outputId": "17465371-fbd6-4ae2-9fb9-963e363d8119"
      },
      "execution_count": null,
      "outputs": [
        {
          "output_type": "execute_result",
          "data": {
            "text/plain": [
              "[1, 2, 5, 6, 3, 4, 99]"
            ]
          },
          "metadata": {},
          "execution_count": 44
        }
      ]
    },
    {
      "cell_type": "code",
      "source": [
        "isto_aqui_eh_uma_terceira_variavel"
      ],
      "metadata": {
        "colab": {
          "base_uri": "https://localhost:8080/"
        },
        "id": "o6O87JOlYxpP",
        "outputId": "cb6a8bdf-3a73-42bf-9c2b-4484e5e5e2a9"
      },
      "execution_count": null,
      "outputs": [
        {
          "output_type": "execute_result",
          "data": {
            "text/plain": [
              "[1, 2, 5, 6, 3, 4]"
            ]
          },
          "metadata": {},
          "execution_count": 45
        }
      ]
    },
    {
      "cell_type": "code",
      "source": [
        "isto_aqui_eh_uma_terceira_variavel.append(100)"
      ],
      "metadata": {
        "id": "Q6mwgTPQY1SM"
      },
      "execution_count": null,
      "outputs": []
    },
    {
      "cell_type": "code",
      "source": [
        "isto_aqui_eh_uma_variavel"
      ],
      "metadata": {
        "colab": {
          "base_uri": "https://localhost:8080/"
        },
        "id": "NNw6Mp0QY40v",
        "outputId": "5c7f5a2c-a0b1-4a80-f6d0-e81b453a2021"
      },
      "execution_count": null,
      "outputs": [
        {
          "output_type": "execute_result",
          "data": {
            "text/plain": [
              "[1, 2, 5, 6, 3, 4, 99]"
            ]
          },
          "metadata": {},
          "execution_count": 47
        }
      ]
    },
    {
      "cell_type": "code",
      "source": [
        "isto_aqui_eh_uma_outra_variavel"
      ],
      "metadata": {
        "colab": {
          "base_uri": "https://localhost:8080/"
        },
        "id": "ZzkriOiTY8Ga",
        "outputId": "9a52ec5c-8d0d-48d3-80a0-932933f7cad2"
      },
      "execution_count": null,
      "outputs": [
        {
          "output_type": "execute_result",
          "data": {
            "text/plain": [
              "[1, 2, 5, 6, 3, 4, 99]"
            ]
          },
          "metadata": {},
          "execution_count": 48
        }
      ]
    },
    {
      "cell_type": "code",
      "source": [
        "isto_aqui_eh_uma_terceira_variavel"
      ],
      "metadata": {
        "colab": {
          "base_uri": "https://localhost:8080/"
        },
        "id": "1X_fVaCIY-AN",
        "outputId": "9b41531d-9650-4b16-af81-cd8ef08b8ada"
      },
      "execution_count": null,
      "outputs": [
        {
          "output_type": "execute_result",
          "data": {
            "text/plain": [
              "[1, 2, 5, 6, 3, 4, 100]"
            ]
          },
          "metadata": {},
          "execution_count": 49
        }
      ]
    },
    {
      "cell_type": "markdown",
      "source": [
        "Com os experimentos anteriores podemos comprovar uma propriedade interessante do **Python**. Diferente de outras linguagens em que quando se atribui o valor de uma variável $X$ qualquer a outro objeto $Y$, ao invés de $Y$ apenas assumir distintamente os valores de $X$, $Y$ acaba tornando-se $X$.\n",
        "\n",
        "Note que para que $Y$ apenas assuma os valores de $X$, o método **$.copy()$** deve ser evocado."
      ],
      "metadata": {
        "id": "nfFnpppmfXSd"
      }
    },
    {
      "cell_type": "markdown",
      "source": [
        "**Agora veja o caso a seguir** pois iremos ver a passagem de argumentos. Observe a seguinte $função$ abaixo:"
      ],
      "metadata": {
        "id": "RSBwRQRqkw7L"
      }
    },
    {
      "cell_type": "code",
      "source": [
        "def adicionar_elemento(alguma_lista, novo_elemento):\n",
        "  alguma_lista.append(novo_elemento)\n",
        "  # print(alguma_lista)"
      ],
      "metadata": {
        "id": "CHJoCQe3gKWf"
      },
      "execution_count": null,
      "outputs": []
    },
    {
      "cell_type": "code",
      "source": [
        "lista = [1, 2, 3]\n",
        "\n",
        "adicionar_elemento(lista, 'teste')"
      ],
      "metadata": {
        "id": "t88SmEq3leit"
      },
      "execution_count": null,
      "outputs": []
    },
    {
      "cell_type": "code",
      "source": [
        "lista"
      ],
      "metadata": {
        "colab": {
          "base_uri": "https://localhost:8080/"
        },
        "id": "MmTnG00Illuc",
        "outputId": "0d990b93-a3e0-441e-fad6-200a639c7435"
      },
      "execution_count": null,
      "outputs": [
        {
          "output_type": "execute_result",
          "data": {
            "text/plain": [
              "[1, 2, 3, 'teste']"
            ]
          },
          "metadata": {},
          "execution_count": 13
        }
      ]
    },
    {
      "cell_type": "markdown",
      "source": [
        "***\n",
        "### **Referências Dinâmicas, tipos fortes**"
      ],
      "metadata": {
        "id": "XjU-Dfhll6aL"
      }
    },
    {
      "cell_type": "markdown",
      "source": [
        "$Quase$ tudo dá, mas $quase$ nem tudo pode.\n",
        "\n",
        "![image.png](data:image/png;base64,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)"
      ],
      "metadata": {
        "id": "CwlkfXZ0nnGD"
      }
    },
    {
      "cell_type": "markdown",
      "source": [
        "Embora o **Python** não veja problema em ora declarar que uma variável $a$ qualquer receba o valor $1$, por exemplo, e ora declarar que $a$ passa a valer $'teste'$, $Python$ é sim uma linguagem *$fortemente$ $tipada$*. Vamoas às provas:"
      ],
      "metadata": {
        "id": "Wym_1qpWn8J1"
      }
    },
    {
      "cell_type": "code",
      "source": [
        "#primeiro passo será provar que o Python não vê problema em alterar o tipo da variável conforme o código evolui.\n",
        "\n",
        "a = 1\n",
        "print(type(a))"
      ],
      "metadata": {
        "id": "gN0qCz46l17n",
        "colab": {
          "base_uri": "https://localhost:8080/"
        },
        "outputId": "354d3e3d-3f86-4c9b-a7e4-d76c3e950d83"
      },
      "execution_count": null,
      "outputs": [
        {
          "output_type": "stream",
          "name": "stdout",
          "text": [
            "<class 'int'>\n"
          ]
        }
      ]
    },
    {
      "cell_type": "code",
      "source": [
        "a = 'teste'\n",
        "print(type(a))"
      ],
      "metadata": {
        "colab": {
          "base_uri": "https://localhost:8080/"
        },
        "id": "a3lKueHfo3Lk",
        "outputId": "400b5103-97c6-4c6c-c253-8855099cb883"
      },
      "execution_count": null,
      "outputs": [
        {
          "output_type": "stream",
          "name": "stdout",
          "text": [
            "<class 'str'>\n"
          ]
        }
      ]
    },
    {
      "cell_type": "markdown",
      "source": [
        "Agora, querido aluno, deixe-me provar que $Python$ é fortemente tipado, veja:"
      ],
      "metadata": {
        "id": "6p_ePEnUpApd"
      }
    },
    {
      "cell_type": "code",
      "source": [
        "b = '9'\n",
        "c = 9\n",
        "d = b+c"
      ],
      "metadata": {
        "colab": {
          "base_uri": "https://localhost:8080/",
          "height": 209
        },
        "id": "t7xOu_3lo5p6",
        "outputId": "4448b0cf-808b-4b09-e882-0c502b407d08"
      },
      "execution_count": null,
      "outputs": [
        {
          "output_type": "error",
          "ename": "TypeError",
          "evalue": "ignored",
          "traceback": [
            "\u001b[0;31m---------------------------------------------------------------------------\u001b[0m",
            "\u001b[0;31mTypeError\u001b[0m                                 Traceback (most recent call last)",
            "\u001b[0;32m<ipython-input-20-f72595816470>\u001b[0m in \u001b[0;36m<module>\u001b[0;34m()\u001b[0m\n\u001b[1;32m      1\u001b[0m \u001b[0mb\u001b[0m \u001b[0;34m=\u001b[0m \u001b[0;34m'9'\u001b[0m\u001b[0;34m\u001b[0m\u001b[0;34m\u001b[0m\u001b[0m\n\u001b[1;32m      2\u001b[0m \u001b[0mc\u001b[0m \u001b[0;34m=\u001b[0m \u001b[0;36m9\u001b[0m\u001b[0;34m\u001b[0m\u001b[0;34m\u001b[0m\u001b[0m\n\u001b[0;32m----> 3\u001b[0;31m \u001b[0md\u001b[0m \u001b[0;34m=\u001b[0m \u001b[0mb\u001b[0m\u001b[0;34m+\u001b[0m\u001b[0mc\u001b[0m\u001b[0;34m\u001b[0m\u001b[0;34m\u001b[0m\u001b[0m\n\u001b[0m",
            "\u001b[0;31mTypeError\u001b[0m: can only concatenate str (not \"int\") to str"
          ]
        }
      ]
    },
    {
      "cell_type": "markdown",
      "source": [
        "Executar o código acima no $Visual$ $Basic$, por exemplo, é possível, pois a $string$ $'9'$ pode ser implicitamente convertida (ou sofrer um $cast$) para um inteiro permitindo, assim, que a soma seja satisfeita e o resultado $18$ seja impresso.\n",
        "\n",
        "Entretando, outras linguagens, como $JavaScript$, pode haver um $cast$ do inteiro 9 para $string$, resultando na $string$ concatenada $'99'$.\n",
        "\n",
        "Assim a prova da qual me comprometi está mais do que afirmada e **podemos, sim, considerar o carácter $fortemente$ $tipado$ da linguagem $Python$**.\n",
        "\n",
        "Em outras palavras, isto significa que o **todo objeto tem um tipo (ou classe) específico**, e conversões implícitas poderão ocorrer somente em determinadas circunstância óbvias, como a seguir:"
      ],
      "metadata": {
        "id": "8hNZpwxzp5VH"
      }
    },
    {
      "cell_type": "code",
      "source": [
        "a = 1.6\n",
        "type(a)"
      ],
      "metadata": {
        "colab": {
          "base_uri": "https://localhost:8080/"
        },
        "id": "VONMH0tEpXJz",
        "outputId": "9a57de4f-9fc0-4a81-905e-f2e6e9ae0a50"
      },
      "execution_count": null,
      "outputs": [
        {
          "output_type": "execute_result",
          "data": {
            "text/plain": [
              "float"
            ]
          },
          "metadata": {},
          "execution_count": 21
        }
      ]
    },
    {
      "cell_type": "code",
      "source": [
        "b = 4\n",
        "type(b)"
      ],
      "metadata": {
        "colab": {
          "base_uri": "https://localhost:8080/"
        },
        "id": "zmRID0kzrtgt",
        "outputId": "17e2dbd0-016e-40b9-dd04-478c6a4b63c3"
      },
      "execution_count": null,
      "outputs": [
        {
          "output_type": "execute_result",
          "data": {
            "text/plain": [
              "int"
            ]
          },
          "metadata": {},
          "execution_count": 23
        }
      ]
    },
    {
      "cell_type": "code",
      "source": [
        "c = a/b\n",
        "print('O tipo da váriável \"C\" é {0} e o seu resultado é {1}'.format(type(c), c))"
      ],
      "metadata": {
        "colab": {
          "base_uri": "https://localhost:8080/"
        },
        "id": "_CHLOfEgrvs7",
        "outputId": "eaad4218-91b8-4241-8592-5c83e470cc66"
      },
      "execution_count": null,
      "outputs": [
        {
          "output_type": "stream",
          "name": "stdout",
          "text": [
            "O tipo da váriável \"C\" é <class 'float'> e o seu resultado é 0.4\n"
          ]
        }
      ]
    },
    {
      "cell_type": "code",
      "source": [
        ""
      ],
      "metadata": {
        "id": "yFrzf9MUr1wO"
      },
      "execution_count": null,
      "outputs": []
    }
  ]
}