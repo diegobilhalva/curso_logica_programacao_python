{
  "nbformat": 4,
  "nbformat_minor": 0,
  "metadata": {
    "colab": {
      "name": "Curso_logica_programacao_python_gabarito_parte_3.ipynb",
      "provenance": [],
      "toc_visible": true,
      "authorship_tag": "ABX9TyM/uRmFwIKKT3ZcU/w8bRAE",
      "include_colab_link": true
    },
    "kernelspec": {
      "name": "python3",
      "display_name": "Python 3"
    },
    "language_info": {
      "name": "python"
    }
  },
  "cells": [
    {
      "cell_type": "markdown",
      "metadata": {
        "id": "view-in-github",
        "colab_type": "text"
      },
      "source": [
        "<a href=\"https://colab.research.google.com/github/diegobilhalva/curso_logica_programacao_python/blob/main/Curso_logica_programacao_python_gabarito_parte_3.ipynb\" target=\"_parent\"><img src=\"https://colab.research.google.com/assets/colab-badge.svg\" alt=\"Open In Colab\"/></a>"
      ]
    },
    {
      "cell_type": "code",
      "execution_count": null,
      "metadata": {
        "id": "Z_PzK1KrIY8i"
      },
      "outputs": [],
      "source": [
        ""
      ]
    },
    {
      "cell_type": "markdown",
      "source": [
        "---\n",
        "---\n",
        "\n",
        "## **3 Estruturas de Dados e Sequências, Funções e Arquivos**\n",
        "\n",
        "Discutiremos nesta seção os conceitos basilares para manipulação de dados e iterações em **Python**. Embora a linguagem conte com um razoável número de bibliotecas mais robustas e com funcionalidades bastante avançadas para este tipo de tarefa, tais ferramentas foram desenvolvidas e projetadas utilizando estes conceitos. \n",
        "\n",
        "As estruturas, vocês verão, são extremamente simples e dominá-las é algo imprescindível durante sua jornada como **Cientista de Dados**. Vejamos!"
      ],
      "metadata": {
        "id": "N6xhRQKAnTj4"
      }
    },
    {
      "cell_type": "markdown",
      "source": [
        "### **3.1 Tuplas**\n",
        "\n",
        "Já vimos antes que **tuplas** são objetos imutáveis do Python, com tamanho fixo.\n",
        "Para criar uma tupla, basta declarar uma variável e atribuir um série de valores separadas por vírgula. Veja:"
      ],
      "metadata": {
        "id": "eJw1qwoYn_Ky"
      }
    },
    {
      "cell_type": "code",
      "source": [
        "tupla = 1 ,2 ,3\n",
        "print('A variável \"tupla\" é do tipo {0}, possui {1} elementos e seu valor é {2}'.format(type(tupla), len(tupla), tupla)) "
      ],
      "metadata": {
        "id": "rdSbli8ErbQN"
      },
      "execution_count": null,
      "outputs": []
    },
    {
      "cell_type": "code",
      "source": [
        "tupla_aninhada = (1 ,2 ,3), ('a', 'b')\n",
        "print('A variável \"tupla\" é do tipo {0}, possui {1} elementos e seu valor é {2}'.format(type(tupla_aninhada), len(tupla_aninhada), tupla_aninhada)) "
      ],
      "metadata": {
        "id": "uGGz_tnxriIx"
      },
      "execution_count": null,
      "outputs": []
    },
    {
      "cell_type": "code",
      "source": [
        "tupla_complexa = 'a', 3, [3,2,'b'], 4, True, 54, (2,3,4)\n",
        "print('A variável \"tupla\" é do tipo {0}, possui {1} elementos e seu valor é {2}'.format(type(tupla_complexa), len(tupla_complexa), tupla_complexa)) "
      ],
      "metadata": {
        "id": "UPZe9itBqp-y"
      },
      "execution_count": null,
      "outputs": []
    },
    {
      "cell_type": "markdown",
      "source": [
        "Alem disso, podemos passr um iterador qualquer como argumento da função $tuple()$ e como resultado teremos uma **tupla**. Observe:"
      ],
      "metadata": {
        "id": "N0GzuxKOsPp3"
      }
    },
    {
      "cell_type": "code",
      "source": [
        "lista = [1, 2, 3]\n",
        "print(type(lista))"
      ],
      "metadata": {
        "id": "Or4ql-UIscIG"
      },
      "execution_count": null,
      "outputs": []
    },
    {
      "cell_type": "code",
      "source": [
        "print(tuple(lista))\n",
        "print(type(lista))"
      ],
      "metadata": {
        "id": "VlwXaV4wwPvz"
      },
      "execution_count": null,
      "outputs": []
    },
    {
      "cell_type": "code",
      "source": [
        "tuple('string')"
      ],
      "metadata": {
        "id": "HXbOD41Qw_C2"
      },
      "execution_count": null,
      "outputs": []
    },
    {
      "cell_type": "code",
      "source": [
        "tuple(range(10))"
      ],
      "metadata": {
        "colab": {
          "base_uri": "https://localhost:8080/"
        },
        "id": "rRMdrRIhpIMR",
        "outputId": "cd9b74a5-b7a9-4609-b215-ffa0a8dfebb2"
      },
      "execution_count": null,
      "outputs": [
        {
          "output_type": "execute_result",
          "data": {
            "text/plain": [
              "(0, 1, 2, 3, 4, 5, 6, 7, 8, 9)"
            ]
          },
          "metadata": {},
          "execution_count": 216
        }
      ]
    },
    {
      "cell_type": "markdown",
      "source": [
        "Para acessar os elementos de uma **tupla**, assim como outras linguagens $C$, $C++$, $Java$ e outras linguagens, basta utilizar colchetes $[$ $]$ passando o índice do elemento como argumento. Veja:"
      ],
      "metadata": {
        "id": "kYzxgVv5xGrk"
      }
    },
    {
      "cell_type": "code",
      "source": [
        "tupla_complexa[2]\n",
        "\n",
        "print(type(tupla_complexa))\n",
        "print(type(tupla_complexa[2]))"
      ],
      "metadata": {
        "id": "8Cxstj7xyGOz"
      },
      "execution_count": null,
      "outputs": []
    },
    {
      "cell_type": "markdown",
      "source": [
        "Conforme vimos anteriormente, a **tupla** pode conter ela própria objetos mutáveis, tais como uma **lista**. Estes objetos podem ser alterados *in-place* conforme abaixo:"
      ],
      "metadata": {
        "id": "e78qaruPzLwv"
      }
    },
    {
      "cell_type": "code",
      "source": [
        "tupla_complexa"
      ],
      "metadata": {
        "id": "HU6z8zM40TH4"
      },
      "execution_count": null,
      "outputs": []
    },
    {
      "cell_type": "code",
      "source": [
        "tupla_complexa[2].append('novo valor da lista')"
      ],
      "metadata": {
        "id": "HymVIeyE0Gsv"
      },
      "execution_count": null,
      "outputs": []
    },
    {
      "cell_type": "code",
      "source": [
        "tupla_complexa"
      ],
      "metadata": {
        "id": "E1Bl1DFH0W9L"
      },
      "execution_count": null,
      "outputs": []
    },
    {
      "cell_type": "markdown",
      "source": [
        "**Desempacotando Tuplas**"
      ],
      "metadata": {
        "id": "L2E6VIyX0Fuo"
      }
    },
    {
      "cell_type": "code",
      "source": [
        "tupla = (1, 2, 3)"
      ],
      "metadata": {
        "id": "VfIaigWM0w5t"
      },
      "execution_count": null,
      "outputs": []
    },
    {
      "cell_type": "code",
      "source": [
        "a, b, c = tupla"
      ],
      "metadata": {
        "id": "hPXqQ3KA03PU"
      },
      "execution_count": null,
      "outputs": []
    },
    {
      "cell_type": "code",
      "source": [
        "c"
      ],
      "metadata": {
        "id": "r6QLaEc51DBc"
      },
      "execution_count": null,
      "outputs": []
    },
    {
      "cell_type": "code",
      "source": [
        "tupla2 = 1, 2, ('a',4,'x')"
      ],
      "metadata": {
        "id": "ieVrfCEA1KaP"
      },
      "execution_count": null,
      "outputs": []
    },
    {
      "cell_type": "code",
      "source": [
        "t, u, (v, x, y) = tupla2"
      ],
      "metadata": {
        "id": "l3aNgrgy1QHz"
      },
      "execution_count": null,
      "outputs": []
    },
    {
      "cell_type": "code",
      "source": [
        "x"
      ],
      "metadata": {
        "id": "rmgCUm8e1WQb"
      },
      "execution_count": null,
      "outputs": []
    },
    {
      "cell_type": "markdown",
      "source": [
        "**Método $count()$**\n",
        "\n",
        "Este método conta quantas vezes o argumento passado está presente na tupla."
      ],
      "metadata": {
        "id": "prVhSsaV3Yl9"
      }
    },
    {
      "cell_type": "code",
      "source": [
        "tupla = 0, 1, 1, 2, 3, 5, 8, 13, 21, 34,"
      ],
      "metadata": {
        "id": "gJtdhHTh3dbf"
      },
      "execution_count": null,
      "outputs": []
    },
    {
      "cell_type": "code",
      "source": [
        "tupla.count(1)"
      ],
      "metadata": {
        "id": "bxNVP6VL3u1o"
      },
      "execution_count": null,
      "outputs": []
    },
    {
      "cell_type": "markdown",
      "source": [
        "### **3.2 Listas**\n",
        "\n",
        "Também já analisamos implicitamente as **Listas**, no entanto agora cabe ressaltar que diferentemente das **Tuplas**, que possuem tamanhos fixos e seu conteúdo não pode ser modificado _in-place_, as **Listas** são o completemente oposto, pois tem tamanho variável, além de permitir que seus valores seja alterados _in-place_."
      ],
      "metadata": {
        "id": "xGlZaIhnpwF0"
      }
    },
    {
      "cell_type": "markdown",
      "source": [
        "Listas podem ser constituidas de modo homogêneo"
      ],
      "metadata": {
        "id": "zipkKGS-tB8e"
      }
    },
    {
      "cell_type": "code",
      "source": [
        "lista1 = [2, 3, 4]\n",
        "lista1"
      ],
      "metadata": {
        "id": "7GEZ2UAJpvv_",
        "colab": {
          "base_uri": "https://localhost:8080/"
        },
        "outputId": "d8472a5f-afc8-4945-a15d-af089b94e0c4"
      },
      "execution_count": null,
      "outputs": [
        {
          "output_type": "execute_result",
          "data": {
            "text/plain": [
              "[2, 3, 4]"
            ]
          },
          "metadata": {},
          "execution_count": 218
        }
      ]
    },
    {
      "cell_type": "markdown",
      "source": [
        "ou heterogênea"
      ],
      "metadata": {
        "id": "BrY0Ot9OtLHK"
      }
    },
    {
      "cell_type": "code",
      "source": [
        "lista2 = ['a', True, 3.232]\n",
        "lista2"
      ],
      "metadata": {
        "colab": {
          "base_uri": "https://localhost:8080/"
        },
        "id": "1GTZOBo8tUWp",
        "outputId": "83a3eb2e-7304-41d0-a879-131b37a12e60"
      },
      "execution_count": null,
      "outputs": [
        {
          "output_type": "execute_result",
          "data": {
            "text/plain": [
              "['a', True, 3.232]"
            ]
          },
          "metadata": {},
          "execution_count": 219
        }
      ]
    },
    {
      "cell_type": "markdown",
      "source": [
        "E assim como as *tuplas*, **podemos criar uma lista a partir de um iterador** com a função $list()$. Veja:"
      ],
      "metadata": {
        "id": "MrabfUx7t7tn"
      }
    },
    {
      "cell_type": "code",
      "source": [
        "list(range(15))"
      ],
      "metadata": {
        "colab": {
          "base_uri": "https://localhost:8080/"
        },
        "id": "bM7T76T4t6pR",
        "outputId": "6095cdad-b079-47b9-c9d5-d90ecf403c5f"
      },
      "execution_count": null,
      "outputs": [
        {
          "output_type": "execute_result",
          "data": {
            "text/plain": [
              "[0, 1, 2, 3, 4, 5, 6, 7, 8, 9, 10, 11, 12, 13, 14]"
            ]
          },
          "metadata": {},
          "execution_count": 221
        }
      ]
    },
    {
      "cell_type": "markdown",
      "source": [
        "**Adicionando e removendo elementos**\n",
        "\n",
        "Elementos podem ser adicionados ao final da lista. Observe:"
      ],
      "metadata": {
        "id": "E7YmU3wOu18e"
      }
    },
    {
      "cell_type": "code",
      "source": [
        "lista = list(range(4))\n",
        "lista"
      ],
      "metadata": {
        "colab": {
          "base_uri": "https://localhost:8080/"
        },
        "id": "4b36H-xUvuQO",
        "outputId": "8446b3a4-8bde-4964-9a08-274a25efd855"
      },
      "execution_count": null,
      "outputs": [
        {
          "output_type": "execute_result",
          "data": {
            "text/plain": [
              "[0, 1, 2, 3]"
            ]
          },
          "metadata": {},
          "execution_count": 242
        }
      ]
    },
    {
      "cell_type": "code",
      "source": [
        "lista.append('elemento x')\n",
        "lista"
      ],
      "metadata": {
        "colab": {
          "base_uri": "https://localhost:8080/"
        },
        "id": "mJHSdFGFwLZq",
        "outputId": "08712441-f66c-4ea7-ef6c-1b2b649675f5"
      },
      "execution_count": null,
      "outputs": [
        {
          "output_type": "execute_result",
          "data": {
            "text/plain": [
              "[0, 1, 2, 3, 'elemento x']"
            ]
          },
          "metadata": {},
          "execution_count": 243
        }
      ]
    },
    {
      "cell_type": "code",
      "source": [
        "lista1 = ['a', 'b', 'c']"
      ],
      "metadata": {
        "id": "7fME9B6e1lgu"
      },
      "execution_count": null,
      "outputs": []
    },
    {
      "cell_type": "code",
      "source": [
        "lista.append(lista1)\n",
        "lista"
      ],
      "metadata": {
        "id": "x504Nsp-tlNr",
        "colab": {
          "base_uri": "https://localhost:8080/"
        },
        "outputId": "1ff0bcca-c397-4e2e-b791-9b7fbca1a884"
      },
      "execution_count": null,
      "outputs": [
        {
          "output_type": "execute_result",
          "data": {
            "text/plain": [
              "[0, 1, 2, 3, 'elemento x', ['a', 'b', 'c']]"
            ]
          },
          "metadata": {},
          "execution_count": 245
        }
      ]
    },
    {
      "cell_type": "markdown",
      "source": [
        "Podemos adicionar um elemento em qualquer posição da lista também. Veja:"
      ],
      "metadata": {
        "id": "OfrAh7oMwsAh"
      }
    },
    {
      "cell_type": "code",
      "source": [
        "lista.insert(2, 'novo elemento')\n",
        "lista"
      ],
      "metadata": {
        "colab": {
          "base_uri": "https://localhost:8080/"
        },
        "id": "eYlf_syXxfkh",
        "outputId": "b81b295f-200b-4802-a0ea-d26ae629a424"
      },
      "execution_count": null,
      "outputs": [
        {
          "output_type": "execute_result",
          "data": {
            "text/plain": [
              "[0, 1, 'novo elemento', 2, 3, 'elemento x', ['a', 'b', 'c']]"
            ]
          },
          "metadata": {},
          "execution_count": 246
        }
      ]
    },
    {
      "cell_type": "markdown",
      "source": [
        "O índice de inserção deve estar entre 0 e o tamanho da lista, inclusive.\n",
        "\n",
        "O oposto do método $insert()$ é o método $pop()$. Para remover um elemento específico, basta passar por _argumento_ o índice deste elemento."
      ],
      "metadata": {
        "id": "mwXqz2Xbwr7A"
      }
    },
    {
      "cell_type": "code",
      "source": [
        "lista.pop(2)\n",
        "lista"
      ],
      "metadata": {
        "colab": {
          "base_uri": "https://localhost:8080/"
        },
        "id": "0dPWZcvHwms_",
        "outputId": "69df0981-af35-47b3-dc03-f52d0478b9be"
      },
      "execution_count": null,
      "outputs": [
        {
          "output_type": "execute_result",
          "data": {
            "text/plain": [
              "[0, 1, 2, 3, 'elemento x', ['a', 'b', 'c']]"
            ]
          },
          "metadata": {},
          "execution_count": 247
        }
      ]
    },
    {
      "cell_type": "markdown",
      "source": [
        "Agora imagine que você deseje remover um elemento sem se preocupar com a posição com que ele se encontre. Para isto, utilize o camando $remove()$ que localizará a primeira ocorrência deste elemento e o eliminará. Veja:"
      ],
      "metadata": {
        "id": "ZmyOHQMAzi_g"
      }
    },
    {
      "cell_type": "code",
      "source": [
        "lista = [0, 1, 1, 'a', 2, 3, 5, 'a', 8, ['a', 'b', 'c'],1]\n",
        "lista.remove('a')\n",
        "lista"
      ],
      "metadata": {
        "colab": {
          "base_uri": "https://localhost:8080/"
        },
        "id": "Xrrva467zMXX",
        "outputId": "86320953-d3b2-4318-c574-693efb40d0a7"
      },
      "execution_count": null,
      "outputs": [
        {
          "output_type": "execute_result",
          "data": {
            "text/plain": [
              "[0, 1, 1, 2, 3, 5, 'a', 8, ['a', 'b', 'c'], 1]"
            ]
          },
          "metadata": {},
          "execution_count": 250
        }
      ]
    },
    {
      "cell_type": "code",
      "source": [
        "lista.remove('b')\n",
        "lista"
      ],
      "metadata": {
        "colab": {
          "base_uri": "https://localhost:8080/",
          "height": 190
        },
        "id": "LqdOZpNK2jDv",
        "outputId": "5f27a842-b7be-4098-f6e4-e27a31c25886"
      },
      "execution_count": null,
      "outputs": [
        {
          "output_type": "error",
          "ename": "ValueError",
          "evalue": "ignored",
          "traceback": [
            "\u001b[0;31m---------------------------------------------------------------------------\u001b[0m",
            "\u001b[0;31mValueError\u001b[0m                                Traceback (most recent call last)",
            "\u001b[0;32m<ipython-input-251-d247c9131423>\u001b[0m in \u001b[0;36m<module>\u001b[0;34m()\u001b[0m\n\u001b[0;32m----> 1\u001b[0;31m \u001b[0mlista\u001b[0m\u001b[0;34m.\u001b[0m\u001b[0mremove\u001b[0m\u001b[0;34m(\u001b[0m\u001b[0;34m'b'\u001b[0m\u001b[0;34m)\u001b[0m\u001b[0;34m\u001b[0m\u001b[0;34m\u001b[0m\u001b[0m\n\u001b[0m\u001b[1;32m      2\u001b[0m \u001b[0mlista\u001b[0m\u001b[0;34m\u001b[0m\u001b[0;34m\u001b[0m\u001b[0m\n",
            "\u001b[0;31mValueError\u001b[0m: list.remove(x): x not in list"
          ]
        }
      ]
    },
    {
      "cell_type": "markdown",
      "source": [
        "Podemos **combinar listas** também. Veja:"
      ],
      "metadata": {
        "id": "OQtk4Ne7tdWi"
      }
    },
    {
      "cell_type": "code",
      "source": [
        "listaA = [1, 2, 3] + ['a', 2, \"c\", (4,\"d\")]\n",
        "listaA"
      ],
      "metadata": {
        "colab": {
          "base_uri": "https://localhost:8080/"
        },
        "id": "SvFRdIIAtkaB",
        "outputId": "1f3f010e-3013-4c53-a78b-0a4ffc797f9b"
      },
      "execution_count": null,
      "outputs": [
        {
          "output_type": "execute_result",
          "data": {
            "text/plain": [
              "[1, 2, 3, 'a', 2, 'c', (4, 'd')]"
            ]
          },
          "metadata": {},
          "execution_count": 253
        }
      ]
    },
    {
      "cell_type": "code",
      "source": [
        "listaA.extend([7,2, (1,1)])\n",
        "listaA"
      ],
      "metadata": {
        "colab": {
          "base_uri": "https://localhost:8080/"
        },
        "id": "PgOQkCQf6KNZ",
        "outputId": "f94bccf8-1af5-407f-a51c-af38806b3c32"
      },
      "execution_count": null,
      "outputs": [
        {
          "output_type": "execute_result",
          "data": {
            "text/plain": [
              "[1, 2, 3, 'a', 2, 'c', (4, 'd'), 7, 2, (1, 1)]"
            ]
          },
          "metadata": {},
          "execution_count": 254
        }
      ]
    },
    {
      "cell_type": "markdown",
      "source": [
        "**Ordenação**:"
      ],
      "metadata": {
        "id": "aB9s7QWVtZ6Q"
      }
    },
    {
      "cell_type": "code",
      "source": [
        "lista = [4,3,4,5,3,2,1]\n",
        "lista.sort()\n",
        "lista"
      ],
      "metadata": {
        "colab": {
          "base_uri": "https://localhost:8080/"
        },
        "id": "26nkL28Y6dp5",
        "outputId": "48d6cabe-bb0e-4bd5-9702-a58cb3b1758a"
      },
      "execution_count": null,
      "outputs": [
        {
          "output_type": "execute_result",
          "data": {
            "text/plain": [
              "[1, 2, 3, 3, 4, 4, 5]"
            ]
          },
          "metadata": {},
          "execution_count": 261
        }
      ]
    },
    {
      "cell_type": "markdown",
      "source": [
        "**Fatiamento (slicing)**:"
      ],
      "metadata": {
        "id": "t6lSftJD7dqZ"
      }
    },
    {
      "cell_type": "code",
      "source": [
        "lista"
      ],
      "metadata": {
        "colab": {
          "base_uri": "https://localhost:8080/"
        },
        "id": "L-I2w2FE8NzV",
        "outputId": "8d5e0f91-b88d-4eab-e0dc-a50ec48a57d8"
      },
      "execution_count": null,
      "outputs": [
        {
          "output_type": "execute_result",
          "data": {
            "text/plain": [
              "[1, 2, 3, 3, 4, 4, 5]"
            ]
          },
          "metadata": {},
          "execution_count": 262
        }
      ]
    },
    {
      "cell_type": "code",
      "source": [
        "lista[2:5]"
      ],
      "metadata": {
        "colab": {
          "base_uri": "https://localhost:8080/"
        },
        "id": "npRLAMJl8T_C",
        "outputId": "47c251df-698b-4fbb-f436-f6ff352a3574"
      },
      "execution_count": null,
      "outputs": [
        {
          "output_type": "execute_result",
          "data": {
            "text/plain": [
              "[3, 3, 4]"
            ]
          },
          "metadata": {},
          "execution_count": 263
        }
      ]
    },
    {
      "cell_type": "code",
      "source": [
        "lista[2:5] = (6, 6, 8)\n",
        "lista"
      ],
      "metadata": {
        "colab": {
          "base_uri": "https://localhost:8080/"
        },
        "id": "4WnQoF1O8cqR",
        "outputId": "cc0fda13-7502-4543-eae6-46b240d6934d"
      },
      "execution_count": null,
      "outputs": [
        {
          "output_type": "execute_result",
          "data": {
            "text/plain": [
              "[1, 2, 6, 6, 8, 4, 5]"
            ]
          },
          "metadata": {},
          "execution_count": 264
        }
      ]
    },
    {
      "cell_type": "code",
      "source": [
        "lista[:3]"
      ],
      "metadata": {
        "colab": {
          "base_uri": "https://localhost:8080/"
        },
        "id": "M0PQvfc184N4",
        "outputId": "99d37e40-2715-4310-f8c0-f8766c5990e5"
      },
      "execution_count": null,
      "outputs": [
        {
          "output_type": "execute_result",
          "data": {
            "text/plain": [
              "[1, 2, 6]"
            ]
          },
          "metadata": {},
          "execution_count": 265
        }
      ]
    },
    {
      "cell_type": "markdown",
      "source": [
        "Agora veja bem os exemplos a seguir:"
      ],
      "metadata": {
        "id": "5Zv2GEVi9Th8"
      }
    },
    {
      "cell_type": "code",
      "source": [
        "lista[4:]"
      ],
      "metadata": {
        "colab": {
          "base_uri": "https://localhost:8080/"
        },
        "id": "CZkW_Gih9c37",
        "outputId": "dccef2b3-38f9-4f9f-dc59-f61105e225d0"
      },
      "execution_count": null,
      "outputs": [
        {
          "output_type": "execute_result",
          "data": {
            "text/plain": [
              "[8, 4, 5]"
            ]
          },
          "metadata": {},
          "execution_count": 271
        }
      ]
    },
    {
      "cell_type": "code",
      "source": [
        "lista[len(lista)-3:]"
      ],
      "metadata": {
        "colab": {
          "base_uri": "https://localhost:8080/"
        },
        "id": "DNyz7jXs87ZI",
        "outputId": "5bd0e696-d1a3-4320-ffe2-362ca04d9081"
      },
      "execution_count": null,
      "outputs": [
        {
          "output_type": "execute_result",
          "data": {
            "text/plain": [
              "[8, 4, 5]"
            ]
          },
          "metadata": {},
          "execution_count": 268
        }
      ]
    },
    {
      "cell_type": "code",
      "source": [
        "lista[-3:]"
      ],
      "metadata": {
        "colab": {
          "base_uri": "https://localhost:8080/"
        },
        "id": "9dq8YXk89W_T",
        "outputId": "334a6bba-a77b-4516-b726-75256b42b30e"
      },
      "execution_count": null,
      "outputs": [
        {
          "output_type": "execute_result",
          "data": {
            "text/plain": [
              "[8, 4, 5]"
            ]
          },
          "metadata": {},
          "execution_count": 269
        }
      ]
    },
    {
      "cell_type": "code",
      "source": [
        "lista[-3:-1]"
      ],
      "metadata": {
        "colab": {
          "base_uri": "https://localhost:8080/"
        },
        "id": "6iViXRuH9o7P",
        "outputId": "7a3ac38f-7421-4d0f-8ae5-1cb45a96fc22"
      },
      "execution_count": null,
      "outputs": [
        {
          "output_type": "execute_result",
          "data": {
            "text/plain": [
              "[8, 4]"
            ]
          },
          "metadata": {},
          "execution_count": 272
        }
      ]
    },
    {
      "cell_type": "markdown",
      "source": [
        "**Step**:"
      ],
      "metadata": {
        "id": "edbNJ2xk9_ul"
      }
    },
    {
      "cell_type": "code",
      "source": [
        "lista[::2]"
      ],
      "metadata": {
        "colab": {
          "base_uri": "https://localhost:8080/"
        },
        "id": "RiPmoWLZ9_Yv",
        "outputId": "76cfdde3-11bd-4550-a827-56e19391f267"
      },
      "execution_count": null,
      "outputs": [
        {
          "output_type": "execute_result",
          "data": {
            "text/plain": [
              "[1, 6, 8, 5]"
            ]
          },
          "metadata": {},
          "execution_count": 273
        }
      ]
    },
    {
      "cell_type": "code",
      "source": [
        "lista[::-1]"
      ],
      "metadata": {
        "id": "m_NhpLrc-jdA",
        "outputId": "4b817378-0cd5-4309-c144-2f9335fc7170",
        "colab": {
          "base_uri": "https://localhost:8080/"
        }
      },
      "execution_count": null,
      "outputs": [
        {
          "output_type": "execute_result",
          "data": {
            "text/plain": [
              "[5, 4, 8, 6, 6, 2, 1]"
            ]
          },
          "metadata": {},
          "execution_count": 274
        }
      ]
    },
    {
      "cell_type": "markdown",
      "source": [
        "**Método index()**"
      ],
      "metadata": {
        "id": "YQG9jkSjCxC6"
      }
    },
    {
      "cell_type": "code",
      "source": [
        "lista"
      ],
      "metadata": {
        "colab": {
          "base_uri": "https://localhost:8080/"
        },
        "id": "e7hoqKUxC0kj",
        "outputId": "69f1021b-b580-4990-8704-371a18023a3a"
      },
      "execution_count": null,
      "outputs": [
        {
          "output_type": "execute_result",
          "data": {
            "text/plain": [
              "[1, 2, 6, 6, 8, 4, 5]"
            ]
          },
          "metadata": {},
          "execution_count": 285
        }
      ]
    },
    {
      "cell_type": "code",
      "source": [
        "lista.index(8)"
      ],
      "metadata": {
        "colab": {
          "base_uri": "https://localhost:8080/"
        },
        "id": "4xA88XZXCimP",
        "outputId": "eaa40996-eaee-411f-f701-2ee92b9c2a4f"
      },
      "execution_count": null,
      "outputs": [
        {
          "output_type": "execute_result",
          "data": {
            "text/plain": [
              "4"
            ]
          },
          "metadata": {},
          "execution_count": 286
        }
      ]
    },
    {
      "cell_type": "markdown",
      "source": [
        "**#dicaTT / #dicadoBilly**: dá para pensar e realizar algumas operações com *strings* como se fossem *listas*. Veja:"
      ],
      "metadata": {
        "id": "UTQkMkI1BzNL"
      }
    },
    {
      "cell_type": "code",
      "source": [
        "frase = 'meu nome é Diego'\n",
        "frase[11:17]"
      ],
      "metadata": {
        "colab": {
          "base_uri": "https://localhost:8080/",
          "height": 36
        },
        "id": "V4m5yW-gB__Z",
        "outputId": "92a2cbbf-1913-4619-f809-1903bc4a5713"
      },
      "execution_count": null,
      "outputs": [
        {
          "output_type": "execute_result",
          "data": {
            "text/plain": [
              "'Diego'"
            ],
            "application/vnd.google.colaboratory.intrinsic+json": {
              "type": "string"
            }
          },
          "metadata": {},
          "execution_count": 280
        }
      ]
    },
    {
      "cell_type": "code",
      "source": [
        "frase[::-1]"
      ],
      "metadata": {
        "colab": {
          "base_uri": "https://localhost:8080/",
          "height": 36
        },
        "id": "1C3zSsArDCc4",
        "outputId": "befd2f9d-dda9-46a0-9dde-c16ababaf6cf"
      },
      "execution_count": null,
      "outputs": [
        {
          "output_type": "execute_result",
          "data": {
            "text/plain": [
              "'ogeiD é emon uem'"
            ],
            "application/vnd.google.colaboratory.intrinsic+json": {
              "type": "string"
            }
          },
          "metadata": {},
          "execution_count": 287
        }
      ]
    },
    {
      "cell_type": "code",
      "source": [
        "#além do método index para encontrar um elemento, numa string também podemos usar o método find()\n",
        "frase.find('Diego') #o resultado é trazer o índice da primeira posição do elemento\n"
      ],
      "metadata": {
        "colab": {
          "base_uri": "https://localhost:8080/"
        },
        "id": "s2-p8rSjDHP0",
        "outputId": "8efed4ea-44d4-43ae-c2fd-ecd6fad8b85f"
      },
      "execution_count": null,
      "outputs": [
        {
          "output_type": "execute_result",
          "data": {
            "text/plain": [
              "11"
            ]
          },
          "metadata": {},
          "execution_count": 288
        }
      ]
    },
    {
      "cell_type": "code",
      "source": [
        "frase.index('Diego')"
      ],
      "metadata": {
        "colab": {
          "base_uri": "https://localhost:8080/"
        },
        "id": "2m2YTXeODawC",
        "outputId": "a98222c0-c6cd-408e-dc1f-151f9154089a"
      },
      "execution_count": null,
      "outputs": [
        {
          "output_type": "execute_result",
          "data": {
            "text/plain": [
              "11"
            ]
          },
          "metadata": {},
          "execution_count": 291
        }
      ]
    },
    {
      "cell_type": "markdown",
      "source": [
        "No entanto, diferente da string não podemos atribuir valores às posições. Para alterar um valor numa string, usamos o método $replace()$:"
      ],
      "metadata": {
        "id": "xQpuqJCwD3Iu"
      }
    },
    {
      "cell_type": "code",
      "source": [
        "frase[11:17] = 'João' "
      ],
      "metadata": {
        "colab": {
          "base_uri": "https://localhost:8080/",
          "height": 172
        },
        "id": "_DScotOPCNWP",
        "outputId": "9289036c-facc-438c-816d-2a7bad169897"
      },
      "execution_count": null,
      "outputs": [
        {
          "output_type": "error",
          "ename": "TypeError",
          "evalue": "ignored",
          "traceback": [
            "\u001b[0;31m---------------------------------------------------------------------------\u001b[0m",
            "\u001b[0;31mTypeError\u001b[0m                                 Traceback (most recent call last)",
            "\u001b[0;32m<ipython-input-282-70d901679abc>\u001b[0m in \u001b[0;36m<module>\u001b[0;34m()\u001b[0m\n\u001b[0;32m----> 1\u001b[0;31m \u001b[0mfrase\u001b[0m\u001b[0;34m[\u001b[0m\u001b[0;36m11\u001b[0m\u001b[0;34m:\u001b[0m\u001b[0;36m17\u001b[0m\u001b[0;34m]\u001b[0m \u001b[0;34m=\u001b[0m \u001b[0;34m'Joãos'\u001b[0m\u001b[0;34m\u001b[0m\u001b[0;34m\u001b[0m\u001b[0m\n\u001b[0m",
            "\u001b[0;31mTypeError\u001b[0m: 'str' object does not support item assignment"
          ]
        }
      ]
    },
    {
      "cell_type": "code",
      "source": [
        "frase = frase.replace('Diego', 'joão')\n",
        "frase"
      ],
      "metadata": {
        "colab": {
          "base_uri": "https://localhost:8080/",
          "height": 36
        },
        "id": "d-3g7kSwEAVu",
        "outputId": "d5917156-cae3-4c22-f389-916b328adcd7"
      },
      "execution_count": null,
      "outputs": [
        {
          "output_type": "execute_result",
          "data": {
            "text/plain": [
              "'meu nome é joão'"
            ],
            "application/vnd.google.colaboratory.intrinsic+json": {
              "type": "string"
            }
          },
          "metadata": {},
          "execution_count": 297
        }
      ]
    },
    {
      "cell_type": "markdown",
      "source": [
        "**Enumerate**:\n",
        "\n",
        "Imagina que você quer criar um dicionário (assunto que veremos em breve), para controlar os índices atuais dos elementos de uma _lista_ ou _tupla_. Uma maneira de se fazer é conforme abaixo:"
      ],
      "metadata": {
        "id": "-dpqQuMQq5AO"
      }
    },
    {
      "cell_type": "code",
      "source": [
        "i = 0 #inteiro que utilizaremos como índice\n",
        "\n",
        "mapping = {} #dicionário que armazenaremos a chave e o valor\n",
        "\n",
        "lista = ['fulano', 'sicrano', 'beltrano']\n",
        "\n",
        "for elemento in lista:\n",
        "  print(elemento)\n",
        "  mapping[i] = elemento\n",
        "  i += 1\n",
        "\n",
        "mapping"
      ],
      "metadata": {
        "colab": {
          "base_uri": "https://localhost:8080/"
        },
        "id": "hHSFP6KysOJb",
        "outputId": "bb391d8e-2f2d-432e-ce03-019c35b801c2"
      },
      "execution_count": null,
      "outputs": [
        {
          "output_type": "stream",
          "name": "stdout",
          "text": [
            "fulano\n",
            "sicrano\n",
            "beltrano\n"
          ]
        },
        {
          "output_type": "execute_result",
          "data": {
            "text/plain": [
              "{0: 'fulano', 1: 'sicrano', 2: 'beltrano'}"
            ]
          },
          "metadata": {},
          "execution_count": 5
        }
      ]
    },
    {
      "cell_type": "markdown",
      "source": [
        "Como o uso deste tipo de recurso é bem comum, principalmente quando se trabalha com manipulação de dados, a comunidade de desenvolvedores do **Python** resolveram nos presentear com a *função embutida* $enumerate$. Veja:"
      ],
      "metadata": {
        "id": "PU_FpnQitO5c"
      }
    },
    {
      "cell_type": "code",
      "source": [
        "lista = ['fulano', 'sicrano', 'beltrano']\n",
        "\n",
        "mapping = {}\n",
        "for i, elemento in enumerate(lista):\n",
        "  mapping[i] = elemento\n",
        "mapping"
      ],
      "metadata": {
        "colab": {
          "base_uri": "https://localhost:8080/"
        },
        "id": "w6lPRaXKtqeE",
        "outputId": "fef75ac7-c8ec-498d-b2d6-409b88e7e7e5"
      },
      "execution_count": null,
      "outputs": [
        {
          "output_type": "execute_result",
          "data": {
            "text/plain": [
              "{0: 'fulano', 1: 'sicrano', 2: 'beltrano'}"
            ]
          },
          "metadata": {},
          "execution_count": 7
        }
      ]
    },
    {
      "cell_type": "markdown",
      "source": [
        "**Sorted**:\n",
        "\n",
        "Devolve uma nova lista ordenada dos elementos de qualquer _lista_ ou _tupla_. Observe:"
      ],
      "metadata": {
        "id": "uEGaEMFHufMQ"
      }
    },
    {
      "cell_type": "code",
      "source": [
        "lista = [5,32,6,21,4,3,6]\n",
        "\n",
        "sorted(lista)"
      ],
      "metadata": {
        "colab": {
          "base_uri": "https://localhost:8080/"
        },
        "id": "kiczwK-quxfE",
        "outputId": "2f41fe7b-f791-4b07-d8cb-0c77ef581791"
      },
      "execution_count": null,
      "outputs": [
        {
          "output_type": "execute_result",
          "data": {
            "text/plain": [
              "[3, 4, 5, 6, 6, 21, 32]"
            ]
          },
          "metadata": {},
          "execution_count": 8
        }
      ]
    },
    {
      "cell_type": "code",
      "source": [
        "lista = list(range(10))\n",
        "lista"
      ],
      "metadata": {
        "colab": {
          "base_uri": "https://localhost:8080/"
        },
        "id": "p4r2z5YSvDBk",
        "outputId": "9cd728cf-5a40-4808-cd9b-9b2d569b5fd0"
      },
      "execution_count": null,
      "outputs": [
        {
          "output_type": "execute_result",
          "data": {
            "text/plain": [
              "[0, 1, 2, 3, 4, 5, 6, 7, 8, 9]"
            ]
          },
          "metadata": {},
          "execution_count": 17
        }
      ]
    },
    {
      "cell_type": "code",
      "source": [
        "sorted(lista, reverse=True)"
      ],
      "metadata": {
        "colab": {
          "base_uri": "https://localhost:8080/"
        },
        "id": "7YyUHG9jvZjD",
        "outputId": "8ba677a6-dcea-4309-b898-decd641d67d0"
      },
      "execution_count": null,
      "outputs": [
        {
          "output_type": "execute_result",
          "data": {
            "text/plain": [
              "[9, 8, 7, 6, 5, 4, 3, 2, 1, 0]"
            ]
          },
          "metadata": {},
          "execution_count": 16
        }
      ]
    },
    {
      "cell_type": "markdown",
      "source": [
        "Olha que interessante:"
      ],
      "metadata": {
        "id": "WlFjC7A40Wr4"
      }
    },
    {
      "cell_type": "code",
      "source": [
        "sorted('eu sou um futuro data scientist')"
      ],
      "metadata": {
        "colab": {
          "base_uri": "https://localhost:8080/"
        },
        "id": "JGS8RRV40aG6",
        "outputId": "8d5cf552-2725-441a-f250-d7cf603efb44"
      },
      "execution_count": null,
      "outputs": [
        {
          "output_type": "execute_result",
          "data": {
            "text/plain": [
              "[' ',\n",
              " ' ',\n",
              " ' ',\n",
              " ' ',\n",
              " ' ',\n",
              " 'a',\n",
              " 'a',\n",
              " 'c',\n",
              " 'd',\n",
              " 'e',\n",
              " 'e',\n",
              " 'f',\n",
              " 'i',\n",
              " 'i',\n",
              " 'm',\n",
              " 'n',\n",
              " 'o',\n",
              " 'o',\n",
              " 'r',\n",
              " 's',\n",
              " 's',\n",
              " 's',\n",
              " 't',\n",
              " 't',\n",
              " 't',\n",
              " 't',\n",
              " 'u',\n",
              " 'u',\n",
              " 'u',\n",
              " 'u',\n",
              " 'u']"
            ]
          },
          "metadata": {},
          "execution_count": 25
        }
      ]
    },
    {
      "cell_type": "markdown",
      "source": [
        "**Reversed**:\n",
        "\n",
        "Ao contrário da função $sorted()$, a função $reversed()$ atua sobre a _lista_, _tupla_ ou o _iterador_ retornando um _iterador_ em ordem reversa. **Só vai virar uma lista reversa se for materializada**. Veja os exemplos abaixo:"
      ],
      "metadata": {
        "id": "R3slWiKjv6ou"
      }
    },
    {
      "cell_type": "code",
      "source": [
        "lista"
      ],
      "metadata": {
        "colab": {
          "base_uri": "https://localhost:8080/"
        },
        "id": "7GRNRVmSvtdg",
        "outputId": "3babec44-540d-45b4-d200-e5754d1c8433"
      },
      "execution_count": null,
      "outputs": [
        {
          "output_type": "execute_result",
          "data": {
            "text/plain": [
              "[0, 1, 2, 3, 4, 5, 6, 7, 8, 9]"
            ]
          },
          "metadata": {},
          "execution_count": 19
        }
      ]
    },
    {
      "cell_type": "code",
      "source": [
        "reversed(lista)"
      ],
      "metadata": {
        "colab": {
          "base_uri": "https://localhost:8080/"
        },
        "id": "8OFIsbDNwPaY",
        "outputId": "8abc1ba0-7e27-4b94-f6c8-a97136d6232a"
      },
      "execution_count": null,
      "outputs": [
        {
          "output_type": "execute_result",
          "data": {
            "text/plain": [
              "<list_reverseiterator at 0x7f172c72cb90>"
            ]
          },
          "metadata": {},
          "execution_count": 20
        }
      ]
    },
    {
      "cell_type": "code",
      "source": [
        "list(reversed(lista))"
      ],
      "metadata": {
        "colab": {
          "base_uri": "https://localhost:8080/"
        },
        "id": "lXbKoi9PwTPv",
        "outputId": "46b98526-4890-4df1-c343-86153d6d9259"
      },
      "execution_count": null,
      "outputs": [
        {
          "output_type": "execute_result",
          "data": {
            "text/plain": [
              "[9, 8, 7, 6, 5, 4, 3, 2, 1, 0]"
            ]
          },
          "metadata": {},
          "execution_count": 21
        }
      ]
    },
    {
      "cell_type": "markdown",
      "source": [
        "**Zip**\n",
        "\n",
        "\n",
        "Zip pareia os elementos de uma série de _tuplas_, _listas_ ou outras sequências e retorna uma lista de tuplas. Olha:"
      ],
      "metadata": {
        "id": "7MM9wvDdw1X9"
      }
    },
    {
      "cell_type": "code",
      "source": [
        "seq1 = 1, 2, 3\n",
        "seq2 = ['a', 'b', 'c']\n",
        "\n",
        "zipped = zip(seq1, seq2)\n",
        "list(zipped)"
      ],
      "metadata": {
        "colab": {
          "base_uri": "https://localhost:8080/"
        },
        "id": "VmqWJx98y9a0",
        "outputId": "2eed022a-70b8-487c-ab59-3ec2aad91789"
      },
      "execution_count": null,
      "outputs": [
        {
          "output_type": "execute_result",
          "data": {
            "text/plain": [
              "[(1, 'a'), (2, 'b'), (3, 'c')]"
            ]
          },
          "metadata": {},
          "execution_count": 23
        }
      ]
    },
    {
      "cell_type": "markdown",
      "source": [
        "Agora, o que aconteceria se juntarmos a esta operação uma sequência com um número de elementos diferentes?"
      ],
      "metadata": {
        "id": "j0Bul5lVzqan"
      }
    },
    {
      "cell_type": "code",
      "source": [
        "seq3 = ['i','j']\n",
        "\n",
        "zipped2 = zip(seq1, seq2, seq3)\n",
        "list(zipped2)"
      ],
      "metadata": {
        "colab": {
          "base_uri": "https://localhost:8080/"
        },
        "id": "QGCw6zK6zpc4",
        "outputId": "bf6fa5b7-40e9-44ab-c9cf-6093ff563cad"
      },
      "execution_count": null,
      "outputs": [
        {
          "output_type": "execute_result",
          "data": {
            "text/plain": [
              "[(1, 'a', 'i'), (2, 'b', 'j')]"
            ]
          },
          "metadata": {},
          "execution_count": 24
        }
      ]
    },
    {
      "cell_type": "markdown",
      "source": [
        "O que você pôde concluir?"
      ],
      "metadata": {
        "id": "pFoMIYM-0HKj"
      }
    },
    {
      "cell_type": "markdown",
      "source": [
        "### **3.3 Dicionários**"
      ],
      "metadata": {
        "id": "QEYqUdezAu9G"
      }
    },
    {
      "cell_type": "markdown",
      "source": [
        "### **3.3 Exercícios de Fixação**\n"
      ],
      "metadata": {
        "id": "CycfFqpa3f3a"
      }
    },
    {
      "cell_type": "markdown",
      "source": [
        "#### E9. ⏰(5min) Crie uma sequência de Fibonnaci usando listas com 20 termos."
      ],
      "metadata": {
        "id": "b4zzrNwWm-vs"
      }
    },
    {
      "cell_type": "code",
      "source": [
        "fibonacci = [0, 1]\n",
        "while len(fibonacci) < 20:\n",
        "  fibonacci.append(fibonacci[len(fibonacci)-1] + fibonacci[len(fibonacci)-2])\n",
        "\n",
        "print(fibonacci)"
      ],
      "metadata": {
        "id": "XJ7xacKjMaNk"
      },
      "execution_count": null,
      "outputs": []
    },
    {
      "cell_type": "markdown",
      "source": [
        "#### E10. ⏰(5min) Implemente um programa em Python que recebe como entrada uma string digitada pelo usuário e retorna a string invertida.\n",
        "\n",
        "Veja o **exemplo**:\n",
        "**Entrada** = \"existem várias maneiras de inverter uma string\"\n",
        "**Saída** = \"gnirts amu retrevni ed sarienam sairáv metsixe\""
      ],
      "metadata": {
        "id": "qljUml9C2MuJ"
      }
    },
    {
      "cell_type": "code",
      "source": [
        "valor_usuario = input('Digite uma frase ')\n",
        "valor_invertido = valor_usuario[::-1]\n",
        "valor_invertido"
      ],
      "metadata": {
        "id": "JLo3Iw0Q3f43",
        "colab": {
          "base_uri": "https://localhost:8080/",
          "height": 55
        },
        "outputId": "392b3b49-36e9-451c-bcbf-ff7ce1c0f7ac"
      },
      "execution_count": null,
      "outputs": [
        {
          "name": "stdout",
          "output_type": "stream",
          "text": [
            "Digite uma frase meu nome é diego\n"
          ]
        },
        {
          "output_type": "execute_result",
          "data": {
            "text/plain": [
              "'ogeid é emon uem'"
            ],
            "application/vnd.google.colaboratory.intrinsic+json": {
              "type": "string"
            }
          },
          "metadata": {},
          "execution_count": 27
        }
      ]
    },
    {
      "cell_type": "code",
      "source": [
        ""
      ],
      "metadata": {
        "id": "uo9lKDw72xRt"
      },
      "execution_count": null,
      "outputs": []
    }
  ]
}