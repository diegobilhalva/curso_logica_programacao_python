{
  "nbformat": 4,
  "nbformat_minor": 0,
  "metadata": {
    "colab": {
      "name": "moduloteste.py",
      "provenance": [],
      "authorship_tag": "ABX9TyPfgjR+fx0cuwmuu+QkxE5R",
      "include_colab_link": true
    },
    "kernelspec": {
      "name": "python3",
      "display_name": "Python 3"
    },
    "language_info": {
      "name": "python"
    }
  },
  "cells": [
    {
      "cell_type": "markdown",
      "metadata": {
        "id": "view-in-github",
        "colab_type": "text"
      },
      "source": [
        "<a href=\"https://colab.research.google.com/github/diegobilhalva/curso_logica_programacao_python/blob/main/moduloteste_py.ipynb\" target=\"_parent\"><img src=\"https://colab.research.google.com/assets/colab-badge.svg\" alt=\"Open In Colab\"/></a>"
      ]
    },
    {
      "cell_type": "code",
      "execution_count": 1,
      "metadata": {
        "id": "KzfcFi_EnxMN"
      },
      "outputs": [],
      "source": [
        "CONSTANTE = 123456\n",
        "\n",
        "def testeImportacao(x):\n",
        "  return x + 2"
      ]
    }
  ]
}